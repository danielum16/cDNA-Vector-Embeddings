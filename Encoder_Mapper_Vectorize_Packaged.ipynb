{
 "cells": [
  {
   "cell_type": "code",
   "execution_count": null,
   "id": "initial_id",
   "metadata": {
    "collapsed": true
   },
   "outputs": [],
   "source": [
    "# Project description\n",
    "\n",
    "\"\"\"\n",
    "GeneVecTools\n",
    "=============\n",
    "\n",
    "This tool provides functionalities for:\n",
    "- Reading in a variety of genetic file types\n",
    "- Vector embedding algorithms\n",
    "- Byte array encoders\n",
    "- Clustering and preprocessing steps for compression\n",
    "- Similarity search tools for FASTA/FASTQ files\n",
    "\n",
    "Installing\n",
    "==========\n",
    "Tester files: https://tinyurl.com/cDNALibraryExampleFiles\n",
    "Install using pip:\n",
    ".. code-block:: bash\n",
    "    pip install GeneVecTools\n",
    "\"\"\"\n"
   ]
  },
  {
   "cell_type": "code",
   "execution_count": null,
   "outputs": [],
   "source": [
    "# Importing necessary modules\n",
    "\n",
    "from GeneVecTools import simSearch, reader, mapper, encoder\n"
   ],
   "metadata": {
    "collapsed": false
   },
   "id": "8dd3cd5a449f4bd4"
  },
  {
   "cell_type": "code",
   "execution_count": null,
   "outputs": [],
   "source": [
    "# Define the file location of the genetic sequence\n",
    "\n",
    "file = \"small_cDNA_Sequences_pbmc_1k_v2_S1_L002_R2_001.fastq\"\n"
   ],
   "metadata": {
    "collapsed": false
   },
   "id": "ecbc633c9102911e"
  },
  {
   "cell_type": "code",
   "execution_count": null,
   "outputs": [],
   "source": [
    "# Creating a VecSS object with specified parameters\n",
    "\n",
    "VECSS = simSearch.VecSS(f=file, length=10000, encoding=\"one-hot-encoding\", bits=8)\n"
   ],
   "metadata": {
    "collapsed": false
   },
   "id": "574f0b4800de732f"
  },
  {
   "cell_type": "code",
   "execution_count": null,
   "outputs": [],
   "source": [
    "# Reading sequences from the file\n",
    "\n",
    "sequences = VECSS.readq()\n"
   ],
   "metadata": {
    "collapsed": false
   },
   "id": "e72c1de277956e1"
  },
  {
   "cell_type": "code",
   "execution_count": null,
   "outputs": [],
   "source": [
    "# Embedding the sequences\n",
    "\n",
    "embedded = VECSS.embed(VECSS.s)\n",
    "print(\"Embedded sequences:\", embedded)\n"
   ],
   "metadata": {
    "collapsed": false
   },
   "id": "ad263125d3980261"
  },
  {
   "cell_type": "code",
   "execution_count": null,
   "outputs": [],
   "source": [
    "# Running the similarity search\n",
    "\n",
    "D, I, time = VECSS.run_search()\n",
    "print(\"Similarity search results:\\nDifferences:\", D, \"\\nIndices:\", I, \"\\nTime taken:\", time)\n"
   ],
   "metadata": {
    "collapsed": false
   },
   "id": "456901f25056d2d1"
  },
  {
   "cell_type": "code",
   "execution_count": null,
   "outputs": [],
   "source": [
    "# Testing the embedding and unembedding process\n",
    "\n",
    "assert VECSS.unembed(VECSS.embed(VECSS.s)) == VECSS.s\n"
   ],
   "metadata": {
    "collapsed": false
   },
   "id": "51446cdf321354e6"
  },
  {
   "cell_type": "code",
   "execution_count": null,
   "outputs": [],
   "source": [
    "# Reading sequences using the Reader class\n",
    "\n",
    "R = reader.Reader()\n",
    "mp, count, total_len, quality = R.read_fastq(file)\n",
    "sequences_dict_items = mp.values()\n",
    "sequences = list(sequences_dict_items)\n",
    "print(\"Extracted sequences:\", sequences)\n"
   ],
   "metadata": {
    "collapsed": false
   },
   "id": "c10dead87227e3a5"
  },
  {
   "cell_type": "code",
   "execution_count": null,
   "outputs": [],
   "source": [
    "# Clustering sequences\n",
    "\n",
    "mapObj = mapper.Mapper(sequences, 2, 3)\n",
    "groups_of_similar_kmers = mapper.cluster(mapObj.hfs)\n",
    "cluster_of_sequences = mapper.groupings(groups_of_similar_kmers, sequences)\n",
    "print(\"Clustered sequences:\", cluster_of_sequences)\n"
   ],
   "metadata": {
    "collapsed": false
   },
   "id": "79957c8c4bc174d1"
  },
  {
   "cell_type": "code",
   "execution_count": null,
   "outputs": [],
   "source": [
    "# Encoding sequences\n",
    "\n",
    "encoder_instance = encoder.Encoder(4)\n",
    "encoded_sequences = encoder_instance.encode_sequences(sequences)\n",
    "print(\"Encoded sequences:\", encoded_sequences)\n"
   ],
   "metadata": {
    "collapsed": false
   },
   "id": "4508bc7ae018b4d6"
  },
  {
   "cell_type": "code",
   "execution_count": null,
   "outputs": [],
   "source": [
    "# Compressing the encoded clusters\n",
    "\n",
    "encoded_clusters_compressed = encoder_instance.encode_clusters(cluster_of_sequences)\n",
    "print(\"Compressed clusters:\", encoded_clusters_compressed)\n"
   ],
   "metadata": {
    "collapsed": false
   },
   "id": "20c9371216f0e5d1"
  },
  {
   "cell_type": "code",
   "execution_count": null,
   "outputs": [],
   "source": [
    "# Decompressing the clusters\n",
    "\n",
    "decoded_clusters_compressed = encoder_instance.decode_clusters(encoded_clusters_compressed)\n",
    "print(\"Decompressed clusters:\", decoded_clusters_compressed)\n"
   ],
   "metadata": {
    "collapsed": false
   },
   "id": "db571d6aca7fb726"
  },
  {
   "cell_type": "code",
   "execution_count": null,
   "outputs": [],
   "source": [
    "# Testing the compressing and decompressing process\n",
    "\n",
    "assert cluster_of_sequences == decoded_clusters_compressed\n"
   ],
   "metadata": {
    "collapsed": false
   },
   "id": "17a56bc2d06d0401"
  }
 ],
 "metadata": {
  "kernelspec": {
   "display_name": "Python 3",
   "language": "python",
   "name": "python3"
  },
  "language_info": {
   "codemirror_mode": {
    "name": "ipython",
    "version": 2
   },
   "file_extension": ".py",
   "mimetype": "text/x-python",
   "name": "python",
   "nbconvert_exporter": "python",
   "pygments_lexer": "ipython2",
   "version": "2.7.6"
  }
 },
 "nbformat": 4,
 "nbformat_minor": 5
}
