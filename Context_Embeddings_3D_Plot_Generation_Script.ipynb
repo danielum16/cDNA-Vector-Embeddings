{
 "cells": [
  {
   "cell_type": "markdown",
   "metadata": {},
   "source": [
    "# Collect Data\n",
    "For speed, we will use downsampled data.\n",
    "You can use any gene fast file with this script."
   ]
  },
  {
   "cell_type": "code",
   "execution_count": 1,
   "metadata": {
    "ExecuteTime": {
     "end_time": "2024-06-18T14:35:37.898347700Z",
     "start_time": "2024-06-18T14:35:36.713457Z"
    }
   },
   "outputs": [
    {
     "name": "stdout",
     "output_type": "stream",
     "text": [
      "Requirement already satisfied: biopython in c:\\users\\dum\\appdata\\local\\programs\\python\\python312\\lib\\site-packages (1.83)\n",
      "Requirement already satisfied: numpy in c:\\users\\dum\\appdata\\local\\programs\\python\\python312\\lib\\site-packages (from biopython) (1.26.4)\n"
     ]
    },
    {
     "name": "stderr",
     "output_type": "stream",
     "text": [
      "\n",
      "[notice] A new release of pip is available: 23.2.1 -> 24.0\n",
      "[notice] To update, run: C:\\Users\\dum\\AppData\\Local\\Programs\\Python\\Python312\\python.exe -m pip install --upgrade pip\n"
     ]
    }
   ],
   "source": [
    "!pip install biopython"
   ]
  },
  {
   "cell_type": "code",
   "execution_count": 2,
   "metadata": {
    "ExecuteTime": {
     "end_time": "2024-06-18T14:35:39.030393700Z",
     "start_time": "2024-06-18T14:35:37.898347700Z"
    }
   },
   "outputs": [
    {
     "name": "stdout",
     "output_type": "stream",
     "text": [
      "Requirement already satisfied: pandas in c:\\users\\dum\\appdata\\local\\programs\\python\\python312\\lib\\site-packages (2.2.2)\n",
      "Requirement already satisfied: numpy>=1.26.0 in c:\\users\\dum\\appdata\\local\\programs\\python\\python312\\lib\\site-packages (from pandas) (1.26.4)\n",
      "Requirement already satisfied: python-dateutil>=2.8.2 in c:\\users\\dum\\appdata\\roaming\\python\\python312\\site-packages (from pandas) (2.9.0.post0)\n",
      "Requirement already satisfied: pytz>=2020.1 in c:\\users\\dum\\appdata\\local\\programs\\python\\python312\\lib\\site-packages (from pandas) (2024.1)\n",
      "Requirement already satisfied: tzdata>=2022.7 in c:\\users\\dum\\appdata\\local\\programs\\python\\python312\\lib\\site-packages (from pandas) (2024.1)\n",
      "Requirement already satisfied: six>=1.5 in c:\\users\\dum\\appdata\\roaming\\python\\python312\\site-packages (from python-dateutil>=2.8.2->pandas) (1.16.0)\n"
     ]
    },
    {
     "name": "stderr",
     "output_type": "stream",
     "text": [
      "\n",
      "[notice] A new release of pip is available: 23.2.1 -> 24.0\n",
      "[notice] To update, run: C:\\Users\\dum\\AppData\\Local\\Programs\\Python\\Python312\\python.exe -m pip install --upgrade pip\n"
     ]
    }
   ],
   "source": [
    "!pip install pandas"
   ]
  },
  {
   "cell_type": "code",
   "execution_count": 3,
   "metadata": {
    "ExecuteTime": {
     "end_time": "2024-06-18T14:35:44.685651900Z",
     "start_time": "2024-06-18T14:35:39.030393700Z"
    }
   },
   "outputs": [
    {
     "name": "stdout",
     "output_type": "stream",
     "text": [
      "Collecting numpy==1.23.4\n",
      "  Using cached numpy-1.23.4.tar.gz (10.7 MB)\n",
      "  Installing build dependencies: started\n",
      "  Installing build dependencies: finished with status 'done'\n",
      "  Getting requirements to build wheel: started\n",
      "  Getting requirements to build wheel: finished with status 'error'\n"
     ]
    },
    {
     "name": "stderr",
     "output_type": "stream",
     "text": [
      "  error: subprocess-exited-with-error\n",
      "  \n",
      "  Getting requirements to build wheel did not run successfully.\n",
      "  exit code: 1\n",
      "  \n",
      "  [33 lines of output]\n",
      "  Traceback (most recent call last):\n",
      "    File \"C:\\Users\\dum\\AppData\\Local\\Programs\\Python\\Python312\\Lib\\site-packages\\pip\\_vendor\\pyproject_hooks\\_in_process\\_in_process.py\", line 353, in <module>\n",
      "      main()\n",
      "    File \"C:\\Users\\dum\\AppData\\Local\\Programs\\Python\\Python312\\Lib\\site-packages\\pip\\_vendor\\pyproject_hooks\\_in_process\\_in_process.py\", line 335, in main\n",
      "      json_out['return_val'] = hook(**hook_input['kwargs'])\n",
      "                               ^^^^^^^^^^^^^^^^^^^^^^^^^^^^\n",
      "    File \"C:\\Users\\dum\\AppData\\Local\\Programs\\Python\\Python312\\Lib\\site-packages\\pip\\_vendor\\pyproject_hooks\\_in_process\\_in_process.py\", line 112, in get_requires_for_build_wheel\n",
      "      backend = _build_backend()\n",
      "                ^^^^^^^^^^^^^^^^\n",
      "    File \"C:\\Users\\dum\\AppData\\Local\\Programs\\Python\\Python312\\Lib\\site-packages\\pip\\_vendor\\pyproject_hooks\\_in_process\\_in_process.py\", line 77, in _build_backend\n",
      "      obj = import_module(mod_path)\n",
      "            ^^^^^^^^^^^^^^^^^^^^^^^\n",
      "    File \"C:\\Users\\dum\\AppData\\Local\\Programs\\Python\\Python312\\Lib\\importlib\\__init__.py\", line 90, in import_module\n",
      "      return _bootstrap._gcd_import(name[level:], package, level)\n",
      "             ^^^^^^^^^^^^^^^^^^^^^^^^^^^^^^^^^^^^^^^^^^^^^^^^^^^^\n",
      "    File \"<frozen importlib._bootstrap>\", line 1381, in _gcd_import\n",
      "    File \"<frozen importlib._bootstrap>\", line 1354, in _find_and_load\n",
      "    File \"<frozen importlib._bootstrap>\", line 1304, in _find_and_load_unlocked\n",
      "    File \"<frozen importlib._bootstrap>\", line 488, in _call_with_frames_removed\n",
      "    File \"<frozen importlib._bootstrap>\", line 1381, in _gcd_import\n",
      "    File \"<frozen importlib._bootstrap>\", line 1354, in _find_and_load\n",
      "    File \"<frozen importlib._bootstrap>\", line 1325, in _find_and_load_unlocked\n",
      "    File \"<frozen importlib._bootstrap>\", line 929, in _load_unlocked\n",
      "    File \"<frozen importlib._bootstrap_external>\", line 994, in exec_module\n",
      "    File \"<frozen importlib._bootstrap>\", line 488, in _call_with_frames_removed\n",
      "    File \"C:\\Users\\dum\\AppData\\Local\\Temp\\pip-build-env-r1s46pry\\overlay\\Lib\\site-packages\\setuptools\\__init__.py\", line 16, in <module>\n",
      "      import setuptools.version\n",
      "    File \"C:\\Users\\dum\\AppData\\Local\\Temp\\pip-build-env-r1s46pry\\overlay\\Lib\\site-packages\\setuptools\\version.py\", line 1, in <module>\n",
      "      import pkg_resources\n",
      "    File \"C:\\Users\\dum\\AppData\\Local\\Temp\\pip-build-env-r1s46pry\\overlay\\Lib\\site-packages\\pkg_resources\\__init__.py\", line 2172, in <module>\n",
      "      register_finder(pkgutil.ImpImporter, find_on_path)\n",
      "                      ^^^^^^^^^^^^^^^^^^^\n",
      "  AttributeError: module 'pkgutil' has no attribute 'ImpImporter'. Did you mean: 'zipimporter'?\n",
      "  [end of output]\n",
      "  \n",
      "  note: This error originates from a subprocess, and is likely not a problem with pip.\n",
      "error: subprocess-exited-with-error\n",
      "\n",
      "Getting requirements to build wheel did not run successfully.\n",
      "exit code: 1\n",
      "\n",
      "See above for output.\n",
      "\n",
      "note: This error originates from a subprocess, and is likely not a problem with pip.\n",
      "\n",
      "[notice] A new release of pip is available: 23.2.1 -> 24.0\n",
      "[notice] To update, run: C:\\Users\\dum\\AppData\\Local\\Programs\\Python\\Python312\\python.exe -m pip install --upgrade pip\n"
     ]
    }
   ],
   "source": [
    "! pip install numpy==1.23.4"
   ]
  },
  {
   "cell_type": "code",
   "execution_count": 4,
   "metadata": {
    "ExecuteTime": {
     "end_time": "2024-06-18T14:35:45.899122700Z",
     "start_time": "2024-06-18T14:35:44.682651800Z"
    }
   },
   "outputs": [
    {
     "name": "stdout",
     "output_type": "stream",
     "text": [
      "Requirement already satisfied: tensorflow in c:\\users\\dum\\appdata\\local\\programs\\python\\python312\\lib\\site-packages (2.16.1)\n",
      "Requirement already satisfied: tensorflow-intel==2.16.1 in c:\\users\\dum\\appdata\\local\\programs\\python\\python312\\lib\\site-packages (from tensorflow) (2.16.1)\n",
      "Requirement already satisfied: absl-py>=1.0.0 in c:\\users\\dum\\appdata\\local\\programs\\python\\python312\\lib\\site-packages (from tensorflow-intel==2.16.1->tensorflow) (2.1.0)\n",
      "Requirement already satisfied: astunparse>=1.6.0 in c:\\users\\dum\\appdata\\local\\programs\\python\\python312\\lib\\site-packages (from tensorflow-intel==2.16.1->tensorflow) (1.6.3)\n",
      "Requirement already satisfied: flatbuffers>=23.5.26 in c:\\users\\dum\\appdata\\local\\programs\\python\\python312\\lib\\site-packages (from tensorflow-intel==2.16.1->tensorflow) (24.3.25)\n",
      "Requirement already satisfied: gast!=0.5.0,!=0.5.1,!=0.5.2,>=0.2.1 in c:\\users\\dum\\appdata\\local\\programs\\python\\python312\\lib\\site-packages (from tensorflow-intel==2.16.1->tensorflow) (0.5.4)\n",
      "Requirement already satisfied: google-pasta>=0.1.1 in c:\\users\\dum\\appdata\\local\\programs\\python\\python312\\lib\\site-packages (from tensorflow-intel==2.16.1->tensorflow) (0.2.0)\n",
      "Requirement already satisfied: h5py>=3.10.0 in c:\\users\\dum\\appdata\\local\\programs\\python\\python312\\lib\\site-packages (from tensorflow-intel==2.16.1->tensorflow) (3.11.0)\n",
      "Requirement already satisfied: libclang>=13.0.0 in c:\\users\\dum\\appdata\\local\\programs\\python\\python312\\lib\\site-packages (from tensorflow-intel==2.16.1->tensorflow) (18.1.1)\n",
      "Requirement already satisfied: ml-dtypes~=0.3.1 in c:\\users\\dum\\appdata\\local\\programs\\python\\python312\\lib\\site-packages (from tensorflow-intel==2.16.1->tensorflow) (0.3.2)\n",
      "Requirement already satisfied: opt-einsum>=2.3.2 in c:\\users\\dum\\appdata\\local\\programs\\python\\python312\\lib\\site-packages (from tensorflow-intel==2.16.1->tensorflow) (3.3.0)\n",
      "Requirement already satisfied: packaging in c:\\users\\dum\\appdata\\roaming\\python\\python312\\site-packages (from tensorflow-intel==2.16.1->tensorflow) (23.2)\n",
      "Requirement already satisfied: protobuf!=4.21.0,!=4.21.1,!=4.21.2,!=4.21.3,!=4.21.4,!=4.21.5,<5.0.0dev,>=3.20.3 in c:\\users\\dum\\appdata\\local\\programs\\python\\python312\\lib\\site-packages (from tensorflow-intel==2.16.1->tensorflow) (4.25.3)\n",
      "Requirement already satisfied: requests<3,>=2.21.0 in c:\\users\\dum\\appdata\\local\\programs\\python\\python312\\lib\\site-packages (from tensorflow-intel==2.16.1->tensorflow) (2.32.3)\n",
      "Requirement already satisfied: setuptools in c:\\users\\dum\\appdata\\local\\programs\\python\\python312\\lib\\site-packages (from tensorflow-intel==2.16.1->tensorflow) (70.0.0)\n",
      "Requirement already satisfied: six>=1.12.0 in c:\\users\\dum\\appdata\\roaming\\python\\python312\\site-packages (from tensorflow-intel==2.16.1->tensorflow) (1.16.0)\n",
      "Requirement already satisfied: termcolor>=1.1.0 in c:\\users\\dum\\appdata\\local\\programs\\python\\python312\\lib\\site-packages (from tensorflow-intel==2.16.1->tensorflow) (2.4.0)\n",
      "Requirement already satisfied: typing-extensions>=3.6.6 in c:\\users\\dum\\appdata\\local\\programs\\python\\python312\\lib\\site-packages (from tensorflow-intel==2.16.1->tensorflow) (4.12.2)\n",
      "Requirement already satisfied: wrapt>=1.11.0 in c:\\users\\dum\\appdata\\local\\programs\\python\\python312\\lib\\site-packages (from tensorflow-intel==2.16.1->tensorflow) (1.16.0)\n",
      "Requirement already satisfied: grpcio<2.0,>=1.24.3 in c:\\users\\dum\\appdata\\local\\programs\\python\\python312\\lib\\site-packages (from tensorflow-intel==2.16.1->tensorflow) (1.64.1)\n",
      "Requirement already satisfied: tensorboard<2.17,>=2.16 in c:\\users\\dum\\appdata\\local\\programs\\python\\python312\\lib\\site-packages (from tensorflow-intel==2.16.1->tensorflow) (2.16.2)\n",
      "Requirement already satisfied: keras>=3.0.0 in c:\\users\\dum\\appdata\\local\\programs\\python\\python312\\lib\\site-packages (from tensorflow-intel==2.16.1->tensorflow) (3.3.3)\n",
      "Requirement already satisfied: numpy<2.0.0,>=1.26.0 in c:\\users\\dum\\appdata\\local\\programs\\python\\python312\\lib\\site-packages (from tensorflow-intel==2.16.1->tensorflow) (1.26.4)\n",
      "Requirement already satisfied: wheel<1.0,>=0.23.0 in c:\\users\\dum\\appdata\\local\\programs\\python\\python312\\lib\\site-packages (from astunparse>=1.6.0->tensorflow-intel==2.16.1->tensorflow) (0.43.0)\n",
      "Requirement already satisfied: rich in c:\\users\\dum\\appdata\\local\\programs\\python\\python312\\lib\\site-packages (from keras>=3.0.0->tensorflow-intel==2.16.1->tensorflow) (13.7.1)\n",
      "Requirement already satisfied: namex in c:\\users\\dum\\appdata\\local\\programs\\python\\python312\\lib\\site-packages (from keras>=3.0.0->tensorflow-intel==2.16.1->tensorflow) (0.0.8)\n",
      "Requirement already satisfied: optree in c:\\users\\dum\\appdata\\local\\programs\\python\\python312\\lib\\site-packages (from keras>=3.0.0->tensorflow-intel==2.16.1->tensorflow) (0.11.0)\n",
      "Requirement already satisfied: charset-normalizer<4,>=2 in c:\\users\\dum\\appdata\\local\\programs\\python\\python312\\lib\\site-packages (from requests<3,>=2.21.0->tensorflow-intel==2.16.1->tensorflow) (3.3.2)\n",
      "Requirement already satisfied: idna<4,>=2.5 in c:\\users\\dum\\appdata\\local\\programs\\python\\python312\\lib\\site-packages (from requests<3,>=2.21.0->tensorflow-intel==2.16.1->tensorflow) (3.7)\n",
      "Requirement already satisfied: urllib3<3,>=1.21.1 in c:\\users\\dum\\appdata\\local\\programs\\python\\python312\\lib\\site-packages (from requests<3,>=2.21.0->tensorflow-intel==2.16.1->tensorflow) (2.2.2)\n",
      "Requirement already satisfied: certifi>=2017.4.17 in c:\\users\\dum\\appdata\\local\\programs\\python\\python312\\lib\\site-packages (from requests<3,>=2.21.0->tensorflow-intel==2.16.1->tensorflow) (2024.6.2)\n",
      "Requirement already satisfied: markdown>=2.6.8 in c:\\users\\dum\\appdata\\local\\programs\\python\\python312\\lib\\site-packages (from tensorboard<2.17,>=2.16->tensorflow-intel==2.16.1->tensorflow) (3.6)\n",
      "Requirement already satisfied: tensorboard-data-server<0.8.0,>=0.7.0 in c:\\users\\dum\\appdata\\local\\programs\\python\\python312\\lib\\site-packages (from tensorboard<2.17,>=2.16->tensorflow-intel==2.16.1->tensorflow) (0.7.2)\n",
      "Requirement already satisfied: werkzeug>=1.0.1 in c:\\users\\dum\\appdata\\local\\programs\\python\\python312\\lib\\site-packages (from tensorboard<2.17,>=2.16->tensorflow-intel==2.16.1->tensorflow) (3.0.3)\n",
      "Requirement already satisfied: MarkupSafe>=2.1.1 in c:\\users\\dum\\appdata\\local\\programs\\python\\python312\\lib\\site-packages (from werkzeug>=1.0.1->tensorboard<2.17,>=2.16->tensorflow-intel==2.16.1->tensorflow) (2.1.5)\n",
      "Requirement already satisfied: markdown-it-py>=2.2.0 in c:\\users\\dum\\appdata\\local\\programs\\python\\python312\\lib\\site-packages (from rich->keras>=3.0.0->tensorflow-intel==2.16.1->tensorflow) (3.0.0)\n",
      "Requirement already satisfied: pygments<3.0.0,>=2.13.0 in c:\\users\\dum\\appdata\\roaming\\python\\python312\\site-packages (from rich->keras>=3.0.0->tensorflow-intel==2.16.1->tensorflow) (2.17.2)\n",
      "Requirement already satisfied: mdurl~=0.1 in c:\\users\\dum\\appdata\\local\\programs\\python\\python312\\lib\\site-packages (from markdown-it-py>=2.2.0->rich->keras>=3.0.0->tensorflow-intel==2.16.1->tensorflow) (0.1.2)\n"
     ]
    },
    {
     "name": "stderr",
     "output_type": "stream",
     "text": [
      "\n",
      "[notice] A new release of pip is available: 23.2.1 -> 24.0\n",
      "[notice] To update, run: C:\\Users\\dum\\AppData\\Local\\Programs\\Python\\Python312\\python.exe -m pip install --upgrade pip\n"
     ]
    }
   ],
   "source": [
    "! pip install tensorflow"
   ]
  },
  {
   "cell_type": "code",
   "outputs": [
    {
     "name": "stdout",
     "output_type": "stream",
     "text": [
      "Requirement already satisfied: matplotlib in c:\\users\\dum\\appdata\\local\\programs\\python\\python312\\lib\\site-packages (3.9.0)\n",
      "Requirement already satisfied: contourpy>=1.0.1 in c:\\users\\dum\\appdata\\local\\programs\\python\\python312\\lib\\site-packages (from matplotlib) (1.2.1)\n",
      "Requirement already satisfied: cycler>=0.10 in c:\\users\\dum\\appdata\\local\\programs\\python\\python312\\lib\\site-packages (from matplotlib) (0.12.1)\n",
      "Requirement already satisfied: fonttools>=4.22.0 in c:\\users\\dum\\appdata\\local\\programs\\python\\python312\\lib\\site-packages (from matplotlib) (4.53.0)\n",
      "Requirement already satisfied: kiwisolver>=1.3.1 in c:\\users\\dum\\appdata\\local\\programs\\python\\python312\\lib\\site-packages (from matplotlib) (1.4.5)\n",
      "Requirement already satisfied: numpy>=1.23 in c:\\users\\dum\\appdata\\local\\programs\\python\\python312\\lib\\site-packages (from matplotlib) (1.26.4)\n",
      "Requirement already satisfied: packaging>=20.0 in c:\\users\\dum\\appdata\\roaming\\python\\python312\\site-packages (from matplotlib) (23.2)\n",
      "Requirement already satisfied: pillow>=8 in c:\\users\\dum\\appdata\\local\\programs\\python\\python312\\lib\\site-packages (from matplotlib) (10.3.0)\n",
      "Requirement already satisfied: pyparsing>=2.3.1 in c:\\users\\dum\\appdata\\local\\programs\\python\\python312\\lib\\site-packages (from matplotlib) (3.1.2)\n",
      "Requirement already satisfied: python-dateutil>=2.7 in c:\\users\\dum\\appdata\\roaming\\python\\python312\\site-packages (from matplotlib) (2.9.0.post0)\n",
      "Requirement already satisfied: six>=1.5 in c:\\users\\dum\\appdata\\roaming\\python\\python312\\site-packages (from python-dateutil>=2.7->matplotlib) (1.16.0)\n"
     ]
    },
    {
     "name": "stderr",
     "output_type": "stream",
     "text": [
      "\n",
      "[notice] A new release of pip is available: 23.2.1 -> 24.0\n",
      "[notice] To update, run: C:\\Users\\dum\\AppData\\Local\\Programs\\Python\\Python312\\python.exe -m pip install --upgrade pip\n"
     ]
    }
   ],
   "source": [
    "! pip install matplotlib"
   ],
   "metadata": {
    "collapsed": false,
    "ExecuteTime": {
     "end_time": "2024-06-18T14:51:17.736903400Z",
     "start_time": "2024-06-18T14:51:16.520981200Z"
    }
   },
   "execution_count": 37
  },
  {
   "cell_type": "code",
   "execution_count": 33,
   "metadata": {
    "ExecuteTime": {
     "end_time": "2024-06-18T14:48:50.527718100Z",
     "start_time": "2024-06-18T14:48:50.464075600Z"
    }
   },
   "outputs": [
    {
     "data": {
      "text/plain": "                                          strainName  \\\n0  sp|A0A0K2S4Q6|CD3CH_HUMAN Protein CD300H OS=Ho...   \n1  sp|A0A1B0GTW7|CIROP_HUMAN Ciliated left-right ...   \n2  sp|A0AV02|S12A8_HUMAN Solute carrier family 12...   \n3  sp|A0AV96|RBM47_HUMAN RNA-binding protein 47 O...   \n4  sp|A0AVF1|IFT56_HUMAN Intraflagellar transport...   \n\n                                                 seq  \n0  MTQRAGAAMLPSALLLLCVPGCLTVSGPSTVMGAVGESLSVQCRYE...  \n1  MLLLLLLLLLLPPLVLRVAASRCLHDETQKSVSLLRPPFSQLPSKS...  \n2  MTQMSQVQELFHEAAQQDALAQPQPWWKTQLFMWEPVLFGTWDGVF...  \n3  MTAEDSTAAMSSDSAAGSSAKVPEGVAGAPNEAALLALMERTGYSM...  \n4  MMLSRAKPAVGRGVQHTDKRKKKGRKIPKLEELLSKRDFTGAITLL...  ",
      "text/html": "<div>\n<style scoped>\n    .dataframe tbody tr th:only-of-type {\n        vertical-align: middle;\n    }\n\n    .dataframe tbody tr th {\n        vertical-align: top;\n    }\n\n    .dataframe thead th {\n        text-align: right;\n    }\n</style>\n<table border=\"1\" class=\"dataframe\">\n  <thead>\n    <tr style=\"text-align: right;\">\n      <th></th>\n      <th>strainName</th>\n      <th>seq</th>\n    </tr>\n  </thead>\n  <tbody>\n    <tr>\n      <th>0</th>\n      <td>sp|A0A0K2S4Q6|CD3CH_HUMAN Protein CD300H OS=Ho...</td>\n      <td>MTQRAGAAMLPSALLLLCVPGCLTVSGPSTVMGAVGESLSVQCRYE...</td>\n    </tr>\n    <tr>\n      <th>1</th>\n      <td>sp|A0A1B0GTW7|CIROP_HUMAN Ciliated left-right ...</td>\n      <td>MLLLLLLLLLLPPLVLRVAASRCLHDETQKSVSLLRPPFSQLPSKS...</td>\n    </tr>\n    <tr>\n      <th>2</th>\n      <td>sp|A0AV02|S12A8_HUMAN Solute carrier family 12...</td>\n      <td>MTQMSQVQELFHEAAQQDALAQPQPWWKTQLFMWEPVLFGTWDGVF...</td>\n    </tr>\n    <tr>\n      <th>3</th>\n      <td>sp|A0AV96|RBM47_HUMAN RNA-binding protein 47 O...</td>\n      <td>MTAEDSTAAMSSDSAAGSSAKVPEGVAGAPNEAALLALMERTGYSM...</td>\n    </tr>\n    <tr>\n      <th>4</th>\n      <td>sp|A0AVF1|IFT56_HUMAN Intraflagellar transport...</td>\n      <td>MMLSRAKPAVGRGVQHTDKRKKKGRKIPKLEELLSKRDFTGAITLL...</td>\n    </tr>\n  </tbody>\n</table>\n</div>"
     },
     "execution_count": 33,
     "metadata": {},
     "output_type": "execute_result"
    }
   ],
   "source": [
    "# Import necessary libraries\n",
    "from Bio import SeqIO\n",
    "import pandas as pd\n",
    "import numpy as np\n",
    "import tensorflow.compat.v1 as tf\n",
    "import matplotlib.pyplot as plt\n",
    "from mpl_toolkits.mplot3d import Axes3D\n",
    "\n",
    "# Disable TensorFlow v2 behavior\n",
    "tf.compat.v1.disable_v2_behavior()\n",
    "\n",
    "# Enable plotting in a separate window\n",
    "%matplotlib qt\n",
    "\n",
    "# Function to convert FASTA file to DataFrame\n",
    "def fasta2df(infile):\n",
    "    records = SeqIO.parse(infile, 'fasta')\n",
    "    seqList = []\n",
    "    for record in records:\n",
    "        desp = record.description\n",
    "        seq = str(record.seq).upper()  # Convert the sequence directly to a string and make it uppercase\n",
    "        seqList.append([desp] + [seq])\n",
    "    seq_df = pd.DataFrame(seqList, columns=['strainName', 'seq'])\n",
    "    return seq_df\n",
    "\n",
    "# Load FASTA file and convert to DataFrame\n",
    "df = fasta2df(\"data/alternative_splicing_human_10541.fasta\")\n",
    "\n",
    "# Display the first few rows of the DataFrame\n",
    "df.head()\n"
   ]
  },
  {
   "cell_type": "code",
   "execution_count": 6,
   "metadata": {
    "ExecuteTime": {
     "end_time": "2024-06-18T14:35:49.160549500Z",
     "start_time": "2024-06-18T14:35:49.156057600Z"
    }
   },
   "outputs": [
    {
     "name": "stdout",
     "output_type": "stream",
     "text": [
      "['MTQRAGAAMLPSALLLLCVPGCLTVSGPSTVMGAVGESLSVQCRYEEKYKTFNKYWCRQPCLPIWHEMVETGGSEGVVRSDQVIITDHPGDLTFTVTLENLTADDAGKYRCGIATILQEDGLSGFLPDPFFQVQVLVSSASSTENSVKTPASPTRPSQCQGSLPSSTCFLLLPLLKVPLLLSILGAILWVNRPWRTPWTES', 'MLLLLLLLLLLPPLVLRVAASRCLHDETQKSVSLLRPPFSQLPSKSRSSSLTLPSSRDPQPLRIQSCYLGDHISDGAWDPEGEGMRGGSRALAAVREATQRIQAVLAVQGPLLLSRDPAQYCHAVWGDPDSPNYHRCSLLNPGYKGESCLGAKIPDTHLRGYALWPEQGPPQLVQPDGPGVQNTDFLLYVRVAHTSKCHQETVSLCCPGWSTAAQSQLTAALTSWAQRRGFVMLPRLCLKLLGSSNLPTLASQSIRITGPSVIAYAACCQLDSEDRPLAGTIVYCAQHLTSPSLSHSDIVMATLHELLHALGFSGQLFKKWRDCPSGFSVRENCSTRQLVTRQDEWGQLLLTTPAVSLSLAKHLGVSGASLGVPLEEEEGLLSSHWEARLLQGSLMTATFDGAQRTRLDPITLAAFKDSGWYQVNHSAAEELLWGQGSGPEFGLVTTCGTGSSDFFCTGSGLGCHYLHLDKGSCSSDPMLEGCRMYKPLANGSECWKKENGFPAGVDNPHGEIYHPQSRCFFANLTSQLLPGDKPRHPSLTPHLKEAELMGRCYLHQCTGRGAYKVQVEGSPWVPCLPGKVIQIPGYYGLLFCPRGRLCQTNEDINAVTSPPVSLSTPDPLFQLSLELAGPPGHSLGKEQQEGLAEAVLEALASKGGTGRCYFHGPSITTSLVFTVHMWKSPGCQGPSVATLHKALTLTLQKKPLEVYHGGANFTTQPSKLLVTSDHNPSMTHLRLSMGLCLMLLILVGVMGTTAYQKRATLPVRPSASYHSPELHSTRVPVRGIREV', 'MTQMSQVQELFHEAAQQDALAQPQPWWKTQLFMWEPVLFGTWDGVFTSCMINIFGVVLFLRTGWLVGNTGVLLGMFLVSFVILVALVTVLSGIGVGERSSIGSGGVYSMISSVLGGQTGGTIGLLYVFGQCVAGAMYITGFAESISDLLGLGNIWAVRGISVAVLLALLGINLAGVKWIIRLQLLLLFLLAVSTLDFVVGSFTHLDPEHGFIGYSPELLQNNTLPDYSPGESFFTVFGVFFPAATGVMAGFNMGGDLREPAASIPLGSLAAVGISWFLYIIFVFLLGAICTREALRYDFLIAEKVSLMGFLFLLGLYISSLASCMGGLYGAPRILQCIAQEKVIPALACLGQGKGPNKTPVAAICLTSLVTMAFVFVGQVNVLAPIVTINFMLTYVAVDYSYFSLSMCSCSLTPVPEPVLREGAEGLHCSEHLLLEKAPSYGSEGPAQRVLEGTLLEFTKDMDQLLQLTRKLESSQPRQGEGNRTPESQKRKSKKATKQTLQDSFLLDLKSPPSFPVEISDRLPAASWEGQESCWNKQTSKSEGTQPEGTYGEQLVPELCNQSESSGEDFFLKSRLQEQDVWRRSTSFYTHMCNPWVSLLGAVGSLLIMFVIQWVYTLVNMGVAAIVYFYIGRASPGLHLGSASNFSFFRWMRSLLLPSCRSLRSPQEQIILAPSLAKVDMEMTQLTQENADFATRDRYHHSSLVNREQLMPHY', 'MTAEDSTAAMSSDSAAGSSAKVPEGVAGAPNEAALLALMERTGYSMVQENGQRKYGGPPPGWEGPHPQRGCEVFVGKIPRDVYEDELVPVFEAVGRIYELRLMMDFDGKNRGYAFVMYCHKHEAKRAVRELNNYEIRPGRLLGVCCSVDNCRLFIGGIPKMKKREEILEEIAKVTEGVLDVIVYASAADKMKNRGFAFVEYESHRAAAMARRKLMPGRIQLWGHQIAVDWAEPEIDVDEDVMETVKILYVRNLMIETTEDTIKKSFGQFNPGCVERVKKIRDYAFVHFTSREDAVHAMNNLNGTELEGSCLEVTLAKPVDKEQYSRYQKAARGGGAAEAAQQPSYVYSCDPYTLAYYGYPYNALIGPNRDYFVKAGSIRGRGRGAAGNRAPGPRGSYLGGYSAGRGIYSRYHEGKGKQQEKGYELVPNLEIPTVNPVAIKPGTVAIPAIGAQYSMFPAAPAPKMIEDGKIHTVEHMISPIAVQPDPASAAAAAAAAAAAAAAVIPTVSTPPPFQGRPITPVYTVAPNVQRIPTAGIYGASYVPFAAPATATIATLQKNAAAAAAMYGGYAGYIPQAFPAAAIQVPIPDVYQTY', 'MMLSRAKPAVGRGVQHTDKRKKKGRKIPKLEELLSKRDFTGAITLLEFKRHVGEEEEDTNLWIGYCAFHLGDYKRALEEYENATKEENCNSEVWVNLACTYFFLGMYKQAEAAGFKASKSRLQNRLLFHLAHKFNDEKKLMSFHQNLQDVTEDQLSLASIHYMRSHYQEAIDIYKRILLDNREYLALNVYVALCYYKLDYYDVSQEVLAVYLQQIPDSTIALNLKACNHFRLYNGRAAEAELKSLMDNASSSFEFAKELIRHNLVVFRGGEGALQVLPPLVDVIPEARLNLVIYYLRQDDVQEAYNLIKDLEPTTPQEYILKGVVNAALGQEMGSRDHMKIAQQFFQLVGGSASECDTIPGRQCMASCFFLLKQFDDVLIYLNSFKSYFYNDDIFNFNYAQAKAATGNTSEGEEAFLLIQSEKMKNDYIYLSWLARCYIMNKKPRLAWELYLKMETSGESFSLLQLIANDCYKMGQFYYSAKAFDVLERLDPNPEYWEGKRGACVGIFQMIIAGREPKETLREVLHLLRSTGNTQVEYMIRIMKKWAKENRVSI', 'MDSPEVTFTLAYLVFAVCFVFTPNEFHAAGLTVQNLLSGWLGSEDAAFVPFHLRRTAATLLCHSLLPLGYYVGMCLAASEKRLHALSQAPEAWRLFLLLAVTLPSIACILIYYWSRDRWACHPLARTLALYALPQSGWQAVASSVNTEFRRIDKFATGAPGARVIVTDTWVMKVTTYRVHVAQQQDVHLTVTESRQHELSPDSNLPVQLLTIRVASTNPAVQAFDIWLNSTEYGELCEKLRAPIRRAAHVVIHQSLGDLFLETFASLVEVNPAYSVPSSQELEACIGCMQTRASVKLVKTCQEAATGECQQCYCRPMWCLTCMGKWFASRQDPLRPDTWLASRVPCPTCRARFCILDVCTVR', 'MEGSEPVAAHQGEEASCSSWGTGSTNKNLPIMSTASVEIDDALYSRQRYVLGDTAMQKMAKSHVFLSGMGGLGLEIAKNLVLAGIKAVTIHDTEKCQAWDLGTNFFLSEDDVVNKRNRAEAVLKHIAELNPYVHVTSSSVPFNETTDLSFLDKYQCVVLTEMKLPLQKKINDFCRSQCPPIKFISADVHGIWSRLFCDFGDEFEVLDTTGEEPKEIFISNITQANPGIVTCLENHPHKLETGQFLTFREINGMTGLNGSIQQITVISPFSFSIGDTTELEPYLHGGIAVQVKTPKTVFFESLERQLKHPKCLIVDFSNPEAPLEIHTAMLALDQFQEKYSRKPNVGCQQDSEELLKLATSISETLEEKPDVNADIVHWLSWTAQGFLSPLAAAVGGVASQEVLKAVTGKFSPLCQWLYLEAADIVESLGKPECEEFLPRGDRYDALRACIGDTLCQKLQNLNIFLVGCGAIGCEMLKNFALLGVGTSKEKGMITVTDPDLIEKSNLNRQFLFRPHHIQKPKSYTAADATLKINSQIKIDAHLNKVCPTTETIYNDEFYTKQDVIITALDNVEARRYVDSRCLANLRPLLDSGTMGTKGHTEVIVPHLTESYNSHRDPPEEEIPFCTLKSFPAAIEHTIQWARDKFESSFSHKPSLFNKFWQTYSSAEEVLQKIQSGHSLEGCFQVIKLLSRRPRNWSQCVELARLKFEKYFNHKALQLLHCFPLDIRLKDGSLFWQSPKRPPSPIKFDLNEPLHLSFLQNAAKLYATVYCIPFAEEDLSADALLNILSEVKIQEFKPSNKVVQTDETARKPDHVPISSEDERNAIFQLEKAILSNEATKSDLQMAVLSFEKDDDHNGHIDFITAASNLRAKMYSIEPADRFKTKRIAGKIIPAIATTTATVSGLVALEMIKVTGGYPFEAYKNCFLNLAIPIVVFTETTEVRKTKIRNGISFTIWDRWTVHGKEDFTLLDFINAVKEKYGIEPTMVVQGVKMLYVPVMPGHAKRLKLTMHKLVKPTTEKKYVDLTVSFAPDIDGDEDLPGPPVRYYFSHDTD', 'MTANRDAALSSHRHPGCAQRPRTPTFASSSQRRSAFGFDDGNFPGLGERSHAPGSRLGARRRAKTARGLRGHRQRGAGAGLSRPGSARAPSPPRPGGPENPGGVLSVELPGLLAQLARSFALLLPVYALGYLGLSFSWVLLALALLAWCRRSRGLKALRLCRALALLEDEERVVRLGVRACDLPAWVHFPDTERAEWLNKTVKHMWPFICQFIEKLFRETIEPAVRGANTHLSTFSFTKVDVGQQPLRINGVKVYTENVDKRQIILDLQISFVGNCEIDLEIKRYFCRAGVKSIQIHGTMRVILEPLIGDMPLVGALSIFFLRKPLLEINWTGLTNLLDVPGLNGLSDTIILDIISNYLVLPNRITVPLVSEVQIAQLRFPVPKGVLRIHFIEAQDLQGKDTYLKGLVKGKSDPYGIIRVGNQIFQSRVIKENLSPKWNEVYEALVYEHPGQELEIELFDEDPDKDDFLGSLMIDLIEVEKERLLDEWFTLDEVPKGKLHLRLEWLTLMPNASNLDKVLTDIKADKDQANDGLSSALLILYLDSARNLPSGKKISSNPNPVVQMSVGHKAQESKIRYKTNEPVWEENFTFFIHNPKRQDLEVEVRDEQHQCSLGNLKVPLSQLLTSEDMTVSQRFQLSNSGPNSTIKMKIALRVLHLEKRERPPDHQHSAQVKRPSVSKEGRKTSIKSHMSGSPGPGGSNTAPSTPVIGGSDKPGMEEKAQPPEAGPQGLHDLGRSSSSLLASPGHISVKEPTPSIASDISLPIATQELRQRLRQLENGTTLGQSPLGQIQLTIRHSSQRNKLIVVVHACRNLIAFSEDGSDPYVRMYLLPDKRRSGRRKTHVSKKTLNPVFDQSFDFSVSLPEVQRRTLDVAVKNSGGFLSKDKGLLGKVLVALASEELAKGWTQWYDLTEDGTRPQAMT', 'MRAEEPCAPGAPSALGAQRTPGPELRLSSQLLPELCTFVVRVLFYLGPVYLAGYLGLSITWLLLGALLWMWWRRNRRGKLGRLAAAFEFLDNEREFISRELRGQHLPAWIHFPDVERVEWANKIISQTWPYLSMIMESKFREKLEPKIREKSIHLRTFTFTKLYFGQKCPRVNGVKAHTNTCNRRRVTVDLQICYIGDCEISVELQKIQAGVNGIQLQGTLRVILEPLLVDKPFVGAVTVFFLQKPHLQINWTGLTNLLDAPGINDVSDSLLEDLIATHLVLPNRVTVPVKKGLDLTNLRFPLPCGVIRVHLLEAEQLAQKDNFLGLRGKSDPYAKVSIGLQHFRSRTIYRNLNPTWNEVFEFMVYEVPGQDLEVDLYDEDTDRDDFLGSLQICLGDVMTNRVVDEWFVLNDTTSGRLHLRLEWLSLLTDQEVLTEDHGGLSTAILVVFLESACNLPRNPFDYLNGEYRAKKLSRFARNKVSKDPSSYVKLSVGKKTHTSKTCPHNKDPVWSQVFSFFVHNVATERLHLKVLDDDQECALGMLEVPLCQILPYADLTLEQRFQLDHSGLDSLISMRLVLRFLQVEERELGSPYTGPEALKKGPLLIKKVATNQGPKAQPQEEGPTDLPCPPDPASDTKDVSRSTTTTTSATTVATEPTSQETGPEPKGKDSAKRFCEPIGEKKSPATIFLTVPGPHSPGPIKSPRPMKCPASPFAWPPKRLAPSMSSLNSLASSCFDLADISLNIEGGDLRRRQLGEIQLTVRYVCLRRCLSVLINGCRNLTPCTSSGADPYVRVYLLPERKWACRKKTSVKRKTLEPLFDETFEFFVPMEEVKKRSLDVAVKNSRPLGSHRRKELGKVLIDLSKEDLIKGFSQWYELTPNGQPRS', 'MENFTALFGAQADPPPPPTALGFGPGKPPPPPPPPAGGGPGTAPPPTAATAPPGADKSGAGCGPFYLMRELPGSTELTGSTNLITHYNLEQAYNKFCGKKVKEKLSNFLPDLPGMIDLPGSHDNSSLRSLIEKPPILSSSFNPITGTMLAGFRLHTGPLPEQCRLMHIQPPKKKNKHKHKQSRTQDPVPPETPSDSDHKKKKKKKEEDPDRKRKKKEKKKKKNRHSPDHPGMGSSQASSSSSLR']\n",
      "10541\n"
     ]
    }
   ],
   "source": [
    "# Extract sequences from the DataFrame into a list (corpus)\n",
    "corpus = list(df['seq'])\n",
    "\n",
    "# Print the first 10 sequences from the corpus\n",
    "print(corpus[:10])\n",
    "\n",
    "# Print the total number of sequences in the corpus\n",
    "print(len(corpus))\n"
   ]
  },
  {
   "cell_type": "code",
   "execution_count": 7,
   "metadata": {
    "ExecuteTime": {
     "end_time": "2024-06-18T14:35:49.164185500Z",
     "start_time": "2024-06-18T14:35:49.161549400Z"
    }
   },
   "outputs": [],
   "source": [
    "# Define base mapping dictionaries for encoding and decoding\n",
    "__mapping = {\"A\": 8, \"C\": 4, \"G\": 2, \"T\": 1, \"N\": 15, \"E\": 0}\n",
    "__rmapping = {8: \"A\", 4: \"C\", 2: \"G\", 1: \"T\", 15: \"N\", 0: \"E\"}\n",
    "\n",
    "# Define the base size for encoding\n",
    "base_size = 2**8\n",
    "\n",
    "# Function to encode a DNA sequence into an integer\n",
    "def encode_sequence(sequence):\n",
    "    val = 0\n",
    "    for i, base in enumerate(sequence):\n",
    "        print(base)\n",
    "        val += __mapping[base] * (2**8**i)\n",
    "    return val\n",
    "\n",
    "# Function to decode an integer back into a DNA sequence\n",
    "def decode_sequence(val):\n",
    "    import math\n",
    "\n",
    "    sequence = \"\"\n",
    "    n = math.floor(math.log(val) / math.log(base_size))\n",
    "\n",
    "    while val > 0:\n",
    "        next_layer = val % base_size**n\n",
    "        sequence = str(__rmapping[int((val - next_layer) / base_size**n)]) + sequence\n",
    "        n -= 1\n",
    "        val = next_layer\n",
    "\n",
    "    return sequence\n"
   ]
  },
  {
   "cell_type": "markdown",
   "metadata": {},
   "source": [
    "# Downsample: A Larger n Results in a Longer Training Time"
   ]
  },
  {
   "cell_type": "code",
   "execution_count": 8,
   "metadata": {
    "ExecuteTime": {
     "end_time": "2024-06-18T14:35:49.167575200Z",
     "start_time": "2024-06-18T14:35:49.163561600Z"
    }
   },
   "outputs": [],
   "source": [
    "n=2500"
   ]
  },
  {
   "cell_type": "markdown",
   "metadata": {},
   "source": [
    "# Remove _"
   ]
  },
  {
   "cell_type": "code",
   "execution_count": 9,
   "metadata": {
    "ExecuteTime": {
     "end_time": "2024-06-18T14:35:49.170182400Z",
     "start_time": "2024-06-18T14:35:49.166575100Z"
    }
   },
   "outputs": [],
   "source": [
    "# Function to remove null amino acids from sequences\n",
    "def remove_null_AA(corpus_dna_new):\n",
    "    null_AAs = ['_', '_', \"_\", \"_\", \"_\", \"_\", \"_\"]\n",
    "    results = []\n",
    "    print(len(corpus_dna_new))\n",
    "    for text in corpus_dna_new:\n",
    "        tmp = list(text)\n",
    "        for null_AA in null_AAs:\n",
    "            if null_AA in tmp:\n",
    "                tmp.remove(null_AA)\n",
    "        results.append(\"\".join(tmp))\n",
    "    \n",
    "    return results\n"
   ]
  },
  {
   "cell_type": "code",
   "execution_count": 10,
   "metadata": {
    "ExecuteTime": {
     "end_time": "2024-06-18T14:35:49.177093100Z",
     "start_time": "2024-06-18T14:35:49.170182400Z"
    }
   },
   "outputs": [],
   "source": [
    "# Function to extract unique amino acids from sequences\n",
    "def amin(corpus_dna_new):\n",
    "    amino_acids = []\n",
    "    for text in corpus_dna_new:\n",
    "        for AA in list(text):\n",
    "            amino_acids.append(AA)\n",
    "    \n",
    "    amino_acids = set(amino_acids)\n",
    "    return list(amino_acids)\n"
   ]
  },
  {
   "cell_type": "code",
   "execution_count": 11,
   "metadata": {
    "ExecuteTime": {
     "end_time": "2024-06-18T14:35:49.428200100Z",
     "start_time": "2024-06-18T14:35:49.191097600Z"
    }
   },
   "outputs": [
    {
     "data": {
      "text/plain": "['N',\n 'Y',\n 'S',\n 'V',\n 'I',\n 'H',\n 'D',\n 'F',\n 'P',\n 'K',\n 'T',\n 'W',\n 'Q',\n 'L',\n 'G',\n 'E',\n 'R',\n 'A',\n 'C',\n 'U',\n 'M']"
     },
     "execution_count": 11,
     "metadata": {},
     "output_type": "execute_result"
    }
   ],
   "source": [
    "# Extract and display unique amino acids from the corpus\n",
    "amino_acids = amin(corpus)\n",
    "amino_acids\n"
   ]
  },
  {
   "cell_type": "markdown",
   "metadata": {},
   "source": [
    "# data generation"
   ]
  },
  {
   "cell_type": "code",
   "execution_count": 12,
   "metadata": {
    "ExecuteTime": {
     "end_time": "2024-06-18T14:35:49.431483100Z",
     "start_time": "2024-06-18T14:35:49.428200100Z"
    }
   },
   "outputs": [],
   "source": [
    "# Function to convert amino acids to integers and generate training data\n",
    "def data_out(amino_acids, corpus_dna_new):\n",
    "    AA2int = {}\n",
    "\n",
    "    # Create a mapping from amino acids to integers\n",
    "    for i, AA in enumerate(amino_acids):\n",
    "        AA2int[AA] = i\n",
    "\n",
    "    sentences = []\n",
    "    for sentence in corpus_dna_new:\n",
    "        sentences.append(list(sentence))\n",
    "\n",
    "    WINDOW_SIZE = 2\n",
    "\n",
    "    data = []\n",
    "    for sentence in sentences:\n",
    "        for idx, AA in enumerate(sentence):\n",
    "            for neighbor in sentence[max(idx - WINDOW_SIZE, 0) : min(idx + WINDOW_SIZE, len(sentence)) + 1]:\n",
    "                if neighbor != AA:\n",
    "                    data.append([AA, neighbor])\n",
    "    \n",
    "    return AA2int, data\n"
   ]
  },
  {
   "cell_type": "code",
   "execution_count": 13,
   "metadata": {
    "ExecuteTime": {
     "end_time": "2024-06-18T14:36:04.986664900Z",
     "start_time": "2024-06-18T14:35:49.430482900Z"
    }
   },
   "outputs": [
    {
     "name": "stderr",
     "output_type": "stream",
     "text": [
      "IOPub data rate exceeded.\n",
      "The Jupyter server will temporarily stop sending output\n",
      "to the client in order to avoid crashing it.\n",
      "To change this limit, set the config variable\n",
      "`--ServerApp.iopub_data_rate_limit`.\n",
      "\n",
      "Current values:\n",
      "ServerApp.iopub_data_rate_limit=1000000.0 (bytes/sec)\n",
      "ServerApp.rate_limit_window=3.0 (secs)\n",
      "\n"
     ]
    }
   ],
   "source": [
    "# Generate the amino acid to integer mapping and training data\n",
    "AA2int, data = data_out(amino_acids, corpus)\n",
    "\n",
    "# Display the AA to integer mapping and training data\n",
    "print(AA2int)\n",
    "print(data)\n"
   ]
  },
  {
   "cell_type": "code",
   "execution_count": 14,
   "metadata": {
    "ExecuteTime": {
     "end_time": "2024-06-18T14:36:05.230558200Z",
     "start_time": "2024-06-18T14:36:05.229562Z"
    }
   },
   "outputs": [],
   "source": [
    "# Function to convert data into a pandas DataFrame\n",
    "def pandify(data):\n",
    "    df = pd.DataFrame(data, columns=['input', 'label'])\n",
    "    return df\n"
   ]
  },
  {
   "cell_type": "code",
   "execution_count": 15,
   "metadata": {
    "ExecuteTime": {
     "start_time": "2024-06-18T14:36:05.230558200Z"
    }
   },
   "outputs": [
    {
     "data": {
      "text/plain": "     input label\n0        M     T\n1        M     Q\n2        T     M\n3        T     Q\n4        T     R\n...    ...   ...\n2495     A     N\n2496     A     G\n2497     N     L\n2498     N     A\n2499     N     G\n\n[2500 rows x 2 columns]",
      "text/html": "<div>\n<style scoped>\n    .dataframe tbody tr th:only-of-type {\n        vertical-align: middle;\n    }\n\n    .dataframe tbody tr th {\n        vertical-align: top;\n    }\n\n    .dataframe thead th {\n        text-align: right;\n    }\n</style>\n<table border=\"1\" class=\"dataframe\">\n  <thead>\n    <tr style=\"text-align: right;\">\n      <th></th>\n      <th>input</th>\n      <th>label</th>\n    </tr>\n  </thead>\n  <tbody>\n    <tr>\n      <th>0</th>\n      <td>M</td>\n      <td>T</td>\n    </tr>\n    <tr>\n      <th>1</th>\n      <td>M</td>\n      <td>Q</td>\n    </tr>\n    <tr>\n      <th>2</th>\n      <td>T</td>\n      <td>M</td>\n    </tr>\n    <tr>\n      <th>3</th>\n      <td>T</td>\n      <td>Q</td>\n    </tr>\n    <tr>\n      <th>4</th>\n      <td>T</td>\n      <td>R</td>\n    </tr>\n    <tr>\n      <th>...</th>\n      <td>...</td>\n      <td>...</td>\n    </tr>\n    <tr>\n      <th>2495</th>\n      <td>A</td>\n      <td>N</td>\n    </tr>\n    <tr>\n      <th>2496</th>\n      <td>A</td>\n      <td>G</td>\n    </tr>\n    <tr>\n      <th>2497</th>\n      <td>N</td>\n      <td>L</td>\n    </tr>\n    <tr>\n      <th>2498</th>\n      <td>N</td>\n      <td>A</td>\n    </tr>\n    <tr>\n      <th>2499</th>\n      <td>N</td>\n      <td>G</td>\n    </tr>\n  </tbody>\n</table>\n<p>2500 rows × 2 columns</p>\n</div>"
     },
     "execution_count": 15,
     "metadata": {},
     "output_type": "execute_result"
    }
   ],
   "source": [
    "# Convert the data into a pandas DataFrame\n",
    "df = pandify(data)\n",
    "\n",
    "# Downsample the DataFrame to the first 'n' rows\n",
    "df_downsampled = df.head(n)\n",
    "\n",
    "# Display the downsampled DataFrame\n",
    "df_downsampled\n"
   ]
  },
  {
   "cell_type": "markdown",
   "metadata": {},
   "source": [
    "# Define Tensorflow Graph"
   ]
  },
  {
   "cell_type": "code",
   "execution_count": 16,
   "metadata": {
    "ExecuteTime": {
     "start_time": "2024-06-18T14:36:05.232561900Z"
    }
   },
   "outputs": [],
   "source": [
    "# Function to convert numbers to one hot vectors\n",
    "def to_one_hot_encoding(data_point_index, amino_acids):\n",
    "    ONE_HOT_DIM = len(amino_acids)\n",
    "    one_hot_encoding = np.zeros(ONE_HOT_DIM)\n",
    "    one_hot_encoding[data_point_index] = 1\n",
    "    return one_hot_encoding\n"
   ]
  },
  {
   "cell_type": "code",
   "execution_count": 17,
   "metadata": {
    "ExecuteTime": {
     "start_time": "2024-06-18T14:36:05.233561900Z"
    }
   },
   "outputs": [],
   "source": [
    "# Function to define the computational graph for training the model\n",
    "def define_graph(AA2int, amino_acids, df):\n",
    "    ONE_HOT_DIM = len(amino_acids)\n",
    "    X = []  # input amino acid\n",
    "    Y = []  # target amino acid\n",
    "\n",
    "    for x, y in zip(df['input'], df['label']):\n",
    "        X.append(to_one_hot_encoding(AA2int[x], amino_acids))\n",
    "        Y.append(to_one_hot_encoding(AA2int[y], amino_acids))\n",
    "\n",
    "    # Convert them to numpy arrays\n",
    "    X_train = np.asarray(X)\n",
    "    Y_train = np.asarray(Y)\n",
    "\n",
    "    # Placeholders for X_train and Y_train\n",
    "    x = tf.placeholder(tf.float32, shape=(None, ONE_HOT_DIM))\n",
    "    y_label = tf.placeholder(tf.float32, shape=(None, ONE_HOT_DIM))\n",
    "\n",
    "    # AA embedding will be 3 dimension for 3D visualization\n",
    "    EMBEDDING_DIM = 3\n",
    "\n",
    "    # Hidden layer: which represents AA vector eventually\n",
    "    W1 = tf.Variable(tf.random_normal([ONE_HOT_DIM, EMBEDDING_DIM]))\n",
    "    b1 = tf.Variable(tf.random_normal([1]))  # Bias\n",
    "    hidden_layer = tf.add(tf.matmul(x, W1), b1)\n",
    "\n",
    "    # Output layer\n",
    "    W2 = tf.Variable(tf.random_normal([EMBEDDING_DIM, ONE_HOT_DIM]))\n",
    "    b2 = tf.Variable(tf.random_normal([1]))\n",
    "    prediction = tf.nn.softmax(tf.add(tf.matmul(hidden_layer, W2), b2))\n",
    "\n",
    "    # Loss function: cross entropy\n",
    "    loss = tf.reduce_mean(-tf.reduce_sum(y_label * tf.log(prediction), axis=[1]))\n",
    "\n",
    "    # Training operation\n",
    "    train_op = tf.train.GradientDescentOptimizer(0.05).minimize(loss)\n",
    "    \n",
    "    return X_train, Y_train, x, y_label, W1, b1, W2, b2, loss, train_op\n"
   ]
  },
  {
   "cell_type": "code",
   "execution_count": 18,
   "metadata": {
    "ExecuteTime": {
     "end_time": "2024-06-18T14:36:05.244044900Z",
     "start_time": "2024-06-18T14:36:05.234562400Z"
    }
   },
   "outputs": [
    {
     "name": "stdout",
     "output_type": "stream",
     "text": [
      "WARNING:tensorflow:From C:\\Users\\dum\\AppData\\Local\\Temp\\ipykernel_47444\\4167833495.py:16: The name tf.placeholder is deprecated. Please use tf.compat.v1.placeholder instead.\n",
      "\n",
      "WARNING:tensorflow:From C:\\Users\\dum\\AppData\\Local\\Temp\\ipykernel_47444\\4167833495.py:36: The name tf.train.GradientDescentOptimizer is deprecated. Please use tf.compat.v1.train.GradientDescentOptimizer instead.\n",
      "\n",
      "X_train_downsampled shape: (2500, 21)\n",
      "Y_train_downsampled shape: (2500, 21)\n"
     ]
    }
   ],
   "source": [
    "# Define the computational graph using the downsampled DataFrame\n",
    "X_train_downsampled, Y_train_downsampled, x_downsampled, y_label_downsampled, W1_downsampled, b1_downsampled, W2_downsampled, b2_downsampled, loss_downsampled, train_op_downsampled = define_graph(AA2int, amino_acids, df_downsampled)\n",
    "\n",
    "# Display the shapes of the training data arrays\n",
    "print(f\"X_train_downsampled shape: {X_train_downsampled.shape}\")\n",
    "print(f\"Y_train_downsampled shape: {Y_train_downsampled.shape}\")\n"
   ]
  },
  {
   "cell_type": "markdown",
   "metadata": {},
   "source": [
    "# Downsampled"
   ]
  },
  {
   "cell_type": "markdown",
   "metadata": {},
   "source": [
    "## Train"
   ]
  },
  {
   "cell_type": "code",
   "execution_count": 19,
   "metadata": {
    "ExecuteTime": {
     "end_time": "2024-06-18T14:36:12.633377400Z",
     "start_time": "2024-06-18T14:36:05.244044900Z"
    }
   },
   "outputs": [
    {
     "name": "stdout",
     "output_type": "stream",
     "text": [
      "Iteration 0, loss: 4.169535160064697\n",
      "Iteration 3000, loss: 2.8225080966949463\n",
      "Iteration 6000, loss: 2.8122880458831787\n",
      "Iteration 9000, loss: 2.8074028491973877\n",
      "Iteration 12000, loss: 2.8039770126342773\n",
      "Iteration 15000, loss: 2.8012959957122803\n",
      "Iteration 18000, loss: 2.7991864681243896\n"
     ]
    }
   ],
   "source": [
    "# Initialize and run the TensorFlow session\n",
    "sess = tf.Session()\n",
    "init = tf.global_variables_initializer()\n",
    "sess.run(init)\n",
    "\n",
    "# Training loop\n",
    "iteration = 20000\n",
    "for i in range(iteration):\n",
    "    # Input is X_train which is one hot encoded AA\n",
    "    # Label is Y_train which is one hot encoded neighbor AA\n",
    "    sess.run(train_op_downsampled, feed_dict={x_downsampled: X_train_downsampled, y_label_downsampled: Y_train_downsampled})\n",
    "    if i % 3000 == 0:\n",
    "        loss_value = sess.run(loss_downsampled, feed_dict={x_downsampled: X_train_downsampled, y_label_downsampled: Y_train_downsampled})\n",
    "        print(f'Iteration {i}, loss: {loss_value}')\n"
   ]
  },
  {
   "cell_type": "code",
   "execution_count": 20,
   "metadata": {
    "ExecuteTime": {
     "end_time": "2024-06-18T14:36:12.641341300Z",
     "start_time": "2024-06-18T14:36:12.633377400Z"
    }
   },
   "outputs": [],
   "source": [
    "# Now the hidden layer (W1 + b1) is actually the AA lookup table\n",
    "vectors_downsampled = sess.run(W1_downsampled + b1_downsampled)\n",
    "\n",
    "# Optionally, print the vectors\n",
    "# print(vectors_downsampled)\n"
   ]
  },
  {
   "cell_type": "markdown",
   "metadata": {},
   "source": [
    "## AA vector in table"
   ]
  },
  {
   "cell_type": "code",
   "execution_count": 21,
   "metadata": {
    "ExecuteTime": {
     "end_time": "2024-06-18T14:36:12.646945700Z",
     "start_time": "2024-06-18T14:36:12.641341300Z"
    }
   },
   "outputs": [],
   "source": [
    "# Create a DataFrame with the amino acid vectors\n",
    "w2v_df_downsampled = pd.DataFrame(vectors_downsampled, columns=['x1', 'x2', 'x3'])\n",
    "w2v_df_downsampled['AA'] = amino_acids\n",
    "w2v_df_downsampled = w2v_df_downsampled[['AA', 'x1', 'x2', 'x3']]\n",
    "\n",
    "# Optionally, display the DataFrame\n",
    "# w2v_df_downsampled\n"
   ]
  },
  {
   "cell_type": "code",
   "execution_count": 22,
   "metadata": {
    "ExecuteTime": {
     "end_time": "2024-06-18T14:36:12.653280700Z",
     "start_time": "2024-06-18T14:36:12.646945700Z"
    }
   },
   "outputs": [
    {
     "data": {
      "text/plain": "   AA        x1        x2        x3\n0   N  2.572642  2.973097  2.579216\n1   Y  2.594833  2.204943  2.352434\n2   S  3.955608  3.229179  2.803545\n3   V  3.639261  3.278837  2.874500\n4   I  3.143257  2.535411  2.050777\n5   H  3.229013  3.280474  2.692389\n6   D  2.876619  2.963700  3.162906\n7   F  3.366975  2.509836  2.098433\n8   P  3.202193  2.803076  2.089284\n9   K  3.018095  3.635763  3.182798\n10  T  2.973303  3.224974  3.067526\n11  W  3.300874  2.828317  2.823977\n12  Q  3.926201  4.125444  3.961387\n13  L  3.133589  2.881657  3.497865\n14  G  2.875674  3.736432  3.449529\n15  E  2.932489  2.142151  1.618549\n16  R  3.298732  3.138536  2.924592\n17  A  3.057406  2.812698  2.266795\n18  C  2.926021  2.724036  2.260637\n19  U  1.927485  3.819521  1.845457\n20  M  2.279782  2.269737  1.988189",
      "text/html": "<div>\n<style scoped>\n    .dataframe tbody tr th:only-of-type {\n        vertical-align: middle;\n    }\n\n    .dataframe tbody tr th {\n        vertical-align: top;\n    }\n\n    .dataframe thead th {\n        text-align: right;\n    }\n</style>\n<table border=\"1\" class=\"dataframe\">\n  <thead>\n    <tr style=\"text-align: right;\">\n      <th></th>\n      <th>AA</th>\n      <th>x1</th>\n      <th>x2</th>\n      <th>x3</th>\n    </tr>\n  </thead>\n  <tbody>\n    <tr>\n      <th>0</th>\n      <td>N</td>\n      <td>2.572642</td>\n      <td>2.973097</td>\n      <td>2.579216</td>\n    </tr>\n    <tr>\n      <th>1</th>\n      <td>Y</td>\n      <td>2.594833</td>\n      <td>2.204943</td>\n      <td>2.352434</td>\n    </tr>\n    <tr>\n      <th>2</th>\n      <td>S</td>\n      <td>3.955608</td>\n      <td>3.229179</td>\n      <td>2.803545</td>\n    </tr>\n    <tr>\n      <th>3</th>\n      <td>V</td>\n      <td>3.639261</td>\n      <td>3.278837</td>\n      <td>2.874500</td>\n    </tr>\n    <tr>\n      <th>4</th>\n      <td>I</td>\n      <td>3.143257</td>\n      <td>2.535411</td>\n      <td>2.050777</td>\n    </tr>\n    <tr>\n      <th>5</th>\n      <td>H</td>\n      <td>3.229013</td>\n      <td>3.280474</td>\n      <td>2.692389</td>\n    </tr>\n    <tr>\n      <th>6</th>\n      <td>D</td>\n      <td>2.876619</td>\n      <td>2.963700</td>\n      <td>3.162906</td>\n    </tr>\n    <tr>\n      <th>7</th>\n      <td>F</td>\n      <td>3.366975</td>\n      <td>2.509836</td>\n      <td>2.098433</td>\n    </tr>\n    <tr>\n      <th>8</th>\n      <td>P</td>\n      <td>3.202193</td>\n      <td>2.803076</td>\n      <td>2.089284</td>\n    </tr>\n    <tr>\n      <th>9</th>\n      <td>K</td>\n      <td>3.018095</td>\n      <td>3.635763</td>\n      <td>3.182798</td>\n    </tr>\n    <tr>\n      <th>10</th>\n      <td>T</td>\n      <td>2.973303</td>\n      <td>3.224974</td>\n      <td>3.067526</td>\n    </tr>\n    <tr>\n      <th>11</th>\n      <td>W</td>\n      <td>3.300874</td>\n      <td>2.828317</td>\n      <td>2.823977</td>\n    </tr>\n    <tr>\n      <th>12</th>\n      <td>Q</td>\n      <td>3.926201</td>\n      <td>4.125444</td>\n      <td>3.961387</td>\n    </tr>\n    <tr>\n      <th>13</th>\n      <td>L</td>\n      <td>3.133589</td>\n      <td>2.881657</td>\n      <td>3.497865</td>\n    </tr>\n    <tr>\n      <th>14</th>\n      <td>G</td>\n      <td>2.875674</td>\n      <td>3.736432</td>\n      <td>3.449529</td>\n    </tr>\n    <tr>\n      <th>15</th>\n      <td>E</td>\n      <td>2.932489</td>\n      <td>2.142151</td>\n      <td>1.618549</td>\n    </tr>\n    <tr>\n      <th>16</th>\n      <td>R</td>\n      <td>3.298732</td>\n      <td>3.138536</td>\n      <td>2.924592</td>\n    </tr>\n    <tr>\n      <th>17</th>\n      <td>A</td>\n      <td>3.057406</td>\n      <td>2.812698</td>\n      <td>2.266795</td>\n    </tr>\n    <tr>\n      <th>18</th>\n      <td>C</td>\n      <td>2.926021</td>\n      <td>2.724036</td>\n      <td>2.260637</td>\n    </tr>\n    <tr>\n      <th>19</th>\n      <td>U</td>\n      <td>1.927485</td>\n      <td>3.819521</td>\n      <td>1.845457</td>\n    </tr>\n    <tr>\n      <th>20</th>\n      <td>M</td>\n      <td>2.279782</td>\n      <td>2.269737</td>\n      <td>1.988189</td>\n    </tr>\n  </tbody>\n</table>\n</div>"
     },
     "execution_count": 22,
     "metadata": {},
     "output_type": "execute_result"
    }
   ],
   "source": [
    "# Drop rows where the amino acid is \"_\"\n",
    "w2v_df_downsampled.drop(w2v_df_downsampled[w2v_df_downsampled['AA'] == \"_\"].index, inplace=True)\n",
    "\n",
    "# Display the cleaned DataFrame\n",
    "w2v_df_downsampled\n"
   ]
  },
  {
   "cell_type": "code",
   "execution_count": 23,
   "metadata": {
    "ExecuteTime": {
     "end_time": "2024-06-18T14:36:12.656644200Z",
     "start_time": "2024-06-18T14:36:12.653280700Z"
    }
   },
   "outputs": [],
   "source": [
    "# Create a list of amino acids from the cleaned DataFrame\n",
    "AA_lst_downsampled = list(w2v_df_downsampled['AA'])\n"
   ]
  },
  {
   "cell_type": "code",
   "execution_count": 24,
   "metadata": {
    "ExecuteTime": {
     "end_time": "2024-06-18T14:36:12.659658500Z",
     "start_time": "2024-06-18T14:36:12.656644200Z"
    }
   },
   "outputs": [],
   "source": [
    "# Define a color mapping for amino acids\n",
    "color_mp = {\n",
    "    'D': 'b', 'E': 'b',   # Blue for acidic amino acids\n",
    "    'R': 'r', 'K': 'r', 'H': 'r',  # Red for basic amino acids\n",
    "    'N': 'y', 'Q': 'y', 'S': 'y', 'T': 'y', 'Y': 'y',  # Yellow for polar uncharged amino acids\n",
    "    'A': 'g', 'V': 'g', 'L': 'g', 'I': 'g', 'P': 'g', 'F': 'g', 'M': 'g', 'W': 'g', 'C': 'g', 'G': 'g'  # Green for nonpolar amino acids\n",
    "}\n"
   ]
  },
  {
   "cell_type": "code",
   "execution_count": 25,
   "metadata": {
    "ExecuteTime": {
     "end_time": "2024-06-18T14:36:12.662149100Z",
     "start_time": "2024-06-18T14:36:12.659658500Z"
    }
   },
   "outputs": [
    {
     "data": {
      "text/plain": "['N',\n 'Y',\n 'S',\n 'V',\n 'I',\n 'H',\n 'D',\n 'F',\n 'P',\n 'K',\n 'T',\n 'W',\n 'Q',\n 'L',\n 'G',\n 'E',\n 'R',\n 'A',\n 'C',\n 'U',\n 'M']"
     },
     "execution_count": 25,
     "metadata": {},
     "output_type": "execute_result"
    }
   ],
   "source": [
    "# Generate a list of color codes for each amino acid in the list\n",
    "color_code_downsampled = []\n",
    "for i, elt in enumerate(AA_lst_downsampled):\n",
    "    color_code_downsampled.append(color_mp.get(elt, 'w'))  # Default to 'w' (white) if amino acid not found in color_mp\n",
    "AA_lst_downsampled"
   ]
  },
  {
   "cell_type": "code",
   "execution_count": 26,
   "metadata": {
    "ExecuteTime": {
     "end_time": "2024-06-18T14:36:12.680069800Z",
     "start_time": "2024-06-18T14:36:12.662149100Z"
    }
   },
   "outputs": [
    {
     "data": {
      "text/plain": "[('N', 2.572641611099243, 2.973097085952759),\n ('Y', 2.5948328971862793, 2.2049434185028076),\n ('S', 3.9556078910827637, 3.2291789054870605),\n ('V', 3.639260768890381, 3.2788374423980713),\n ('I', 3.143256902694702, 2.5354106426239014),\n ('H', 3.2290127277374268, 3.2804741859436035),\n ('D', 2.8766191005706787, 2.963700294494629),\n ('F', 3.3669745922088623, 2.509835720062256),\n ('P', 3.202192544937134, 2.8030762672424316),\n ('K', 3.018094778060913, 3.635763168334961),\n ('T', 2.9733026027679443, 3.224973678588867),\n ('W', 3.3008742332458496, 2.828317403793335),\n ('Q', 3.9262006282806396, 4.125444412231445),\n ('L', 3.1335887908935547, 2.8816568851470947),\n ('G', 2.8756744861602783, 3.73643159866333),\n ('E', 2.9324893951416016, 2.142150640487671),\n ('R', 3.298732280731201, 3.138536214828491),\n ('A', 3.057405710220337, 2.8126981258392334),\n ('C', 2.9260213375091553, 2.7240359783172607),\n ('U', 1.9274849891662598, 3.819521427154541),\n ('M', 2.2797818183898926, 2.2697367668151855)]"
     },
     "execution_count": 26,
     "metadata": {},
     "output_type": "execute_result"
    }
   ],
   "source": [
    "# Create a zip object with amino acid labels and their corresponding vectors\n",
    "z_data_downsampled = zip(w2v_df_downsampled['AA'], w2v_df_downsampled['x1'], w2v_df_downsampled['x2'])\n",
    "\n",
    "# Convert to a list if you need to view or iterate multiple times\n",
    "z_data_downsampled = list(z_data_downsampled)\n",
    "\n",
    "# Display the zipped data\n",
    "z_data_downsampled\n"
   ]
  },
  {
   "cell_type": "code",
   "execution_count": 27,
   "metadata": {
    "ExecuteTime": {
     "end_time": "2024-06-18T14:36:12.681072700Z",
     "start_time": "2024-06-18T14:36:12.666159900Z"
    }
   },
   "outputs": [
    {
     "name": "stdout",
     "output_type": "stream",
     "text": [
      "N 2.572641611099243 2.973097085952759\n",
      "Y 2.5948328971862793 2.2049434185028076\n",
      "S 3.9556078910827637 3.2291789054870605\n",
      "V 3.639260768890381 3.2788374423980713\n",
      "I 3.143256902694702 2.5354106426239014\n",
      "H 3.2290127277374268 3.2804741859436035\n",
      "D 2.8766191005706787 2.963700294494629\n",
      "F 3.3669745922088623 2.509835720062256\n",
      "P 3.202192544937134 2.8030762672424316\n",
      "K 3.018094778060913 3.635763168334961\n",
      "T 2.9733026027679443 3.224973678588867\n",
      "W 3.3008742332458496 2.828317403793335\n",
      "Q 3.9262006282806396 4.125444412231445\n",
      "L 3.1335887908935547 2.8816568851470947\n",
      "G 2.8756744861602783 3.73643159866333\n",
      "E 2.9324893951416016 2.142150640487671\n",
      "R 3.298732280731201 3.138536214828491\n",
      "A 3.057405710220337 2.8126981258392334\n",
      "C 2.9260213375091553 2.7240359783172607\n",
      "U 1.9274849891662598 3.819521427154541\n",
      "M 2.2797818183898926 2.2697367668151855\n"
     ]
    }
   ],
   "source": [
    "# Iterate through the zipped data and print the amino acids and their corresponding vectors\n",
    "for (AA_downsampled, x1_downsampled, x2_downsampled) in z_data_downsampled:\n",
    "    print(AA_downsampled, x1_downsampled, x2_downsampled)\n"
   ]
  },
  {
   "cell_type": "markdown",
   "metadata": {},
   "source": [
    "### 3D chart"
   ]
  },
  {
   "cell_type": "code",
   "execution_count": 38,
   "metadata": {
    "ExecuteTime": {
     "end_time": "2024-06-18T14:51:25.268140600Z",
     "start_time": "2024-06-18T14:51:25.240846500Z"
    }
   },
   "outputs": [
    {
     "ename": "TypeError",
     "evalue": "FigureBase.gca() got an unexpected keyword argument 'projection'",
     "output_type": "error",
     "traceback": [
      "\u001B[1;31m---------------------------------------------------------------------------\u001B[0m",
      "\u001B[1;31mTypeError\u001B[0m                                 Traceback (most recent call last)",
      "Cell \u001B[1;32mIn[38], line 2\u001B[0m\n\u001B[0;32m      1\u001B[0m fig \u001B[38;5;241m=\u001B[39m plt\u001B[38;5;241m.\u001B[39mfigure(figsize\u001B[38;5;241m=\u001B[39m(\u001B[38;5;241m10\u001B[39m,\u001B[38;5;241m10\u001B[39m))\n\u001B[1;32m----> 2\u001B[0m ax \u001B[38;5;241m=\u001B[39m \u001B[43mfig\u001B[49m\u001B[38;5;241;43m.\u001B[39;49m\u001B[43mgca\u001B[49m\u001B[43m(\u001B[49m\u001B[43mprojection\u001B[49m\u001B[38;5;241;43m=\u001B[39;49m\u001B[38;5;124;43m'\u001B[39;49m\u001B[38;5;124;43m3d\u001B[39;49m\u001B[38;5;124;43m'\u001B[39;49m\u001B[43m)\u001B[49m\n\u001B[0;32m      4\u001B[0m \u001B[38;5;28;01mfor\u001B[39;00m i \u001B[38;5;129;01min\u001B[39;00m \u001B[38;5;28mrange\u001B[39m(\u001B[38;5;28mlen\u001B[39m(w2v_df_downsampled)):\n\u001B[0;32m      5\u001B[0m     sc \u001B[38;5;241m=\u001B[39m ax\u001B[38;5;241m.\u001B[39mscatter(w2v_df_downsampled[\u001B[38;5;124m'\u001B[39m\u001B[38;5;124mx1\u001B[39m\u001B[38;5;124m'\u001B[39m][i], w2v_df_downsampled[\u001B[38;5;124m'\u001B[39m\u001B[38;5;124mx2\u001B[39m\u001B[38;5;124m'\u001B[39m][i], w2v_df_downsampled[\u001B[38;5;124m'\u001B[39m\u001B[38;5;124mx3\u001B[39m\u001B[38;5;124m'\u001B[39m][i], c\u001B[38;5;241m=\u001B[39mcolor_code_downsampled[i], marker\u001B[38;5;241m=\u001B[39m\u001B[38;5;124mr\u001B[39m\u001B[38;5;124m\"\u001B[39m\u001B[38;5;124m$ \u001B[39m\u001B[38;5;132;01m{}\u001B[39;00m\u001B[38;5;124m $\u001B[39m\u001B[38;5;124m\"\u001B[39m\u001B[38;5;241m.\u001B[39mformat(AA_lst_downsampled[i]), s\u001B[38;5;241m=\u001B[39m\u001B[38;5;241m100\u001B[39m)\n",
      "\u001B[1;31mTypeError\u001B[0m: FigureBase.gca() got an unexpected keyword argument 'projection'"
     ]
    }
   ],
   "source": [
    "fig = plt.figure(figsize=(10,10))\n",
    "ax = fig.gca(projection='3d')\n",
    "\n",
    "for i in range(len(w2v_df_downsampled)):\n",
    "    sc = ax.scatter(w2v_df_downsampled['x1'][i], w2v_df_downsampled['x2'][i], w2v_df_downsampled['x3'][i], c=color_code_downsampled[i], marker=r\"$ {} $\".format(AA_lst_downsampled[i]), s=100)\n",
    "    \n",
    "# for i in range(len(w2v_df_downsampled)):\n",
    "#     sc = ax.scatter(w2v_df_downsampled['x1'][i], w2v_df_downsampled['x2'][i], w2v_df_downsampled['x3'][i], c=color_code_downsampled[i], marker=r\"$ {} $\".format(AA_lst_downsampled[i]), s=100, cmap=\"Spectral\")    \n",
    "\n",
    "# plt.colorbar(sc)\n",
    "plt.show()"
   ]
  },
  {
   "cell_type": "code",
   "execution_count": null,
   "metadata": {
    "ExecuteTime": {
     "start_time": "2024-06-18T14:36:13.200814100Z"
    }
   },
   "outputs": [],
   "source": []
  }
 ],
 "metadata": {
  "kernelspec": {
   "display_name": "Python 3 (ipykernel)",
   "language": "python",
   "name": "python3"
  },
  "language_info": {
   "codemirror_mode": {
    "name": "ipython",
    "version": 3
   },
   "file_extension": ".py",
   "mimetype": "text/x-python",
   "name": "python",
   "nbconvert_exporter": "python",
   "pygments_lexer": "ipython3",
   "version": "3.9.13"
  },
  "vscode": {
   "interpreter": {
    "hash": "40d3a090f54c6569ab1632332b64b2c03c39dcf918b08424e98f38b5ae0af88f"
   }
  }
 },
 "nbformat": 4,
 "nbformat_minor": 4
}
