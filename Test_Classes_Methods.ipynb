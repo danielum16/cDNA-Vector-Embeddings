{
 "cells": [
  {
   "cell_type": "code",
   "execution_count": null,
   "id": "initial_id",
   "metadata": {},
   "outputs": [],
   "source": [
    "# Import necessary libraries and modules\n",
    "import numpy as np\n",
    "from encoder import Encoder\n",
    "from mapper import Mapper, kmeans, dist, mindist, cluster, transform, groupings, compress_clusters, get_size_compressed\n",
    "from vectorize import Mapper as VecMapper\n",
    "from library.reader import Reader\n"
   ]
  },
  {
   "cell_type": "code",
   "execution_count": null,
   "id": "1c39435926ad641b",
   "metadata": {
    "collapsed": false,
    "jupyter": {
     "outputs_hidden": false
    }
   },
   "outputs": [],
   "source": [
    "# Test Encoder Class\n",
    "print(\"Testing Encoder Class\")\n",
    "\n",
    "# Create a sample cluster\n",
    "sample_cluster = [\n",
    "    [[\"ACGT\", 1], [\"TCGA\", 1], [\"ACGTGTCGAGTGT\", 2]],\n",
    "    [[\"ACGATGCGCGCTAGGT\", 1], [\"ACGTGTCGCGCAATCGCTAGAC\", 2]],\n",
    "]\n",
    "\n",
    "# Encode the cluster\n",
    "encoded_cluster = Encoder.encode_clusters(sample_cluster)\n",
    "print(\"Encoded Cluster:\", encoded_cluster)\n",
    "\n",
    "# Decode the cluster\n",
    "decoded_cluster = Encoder.decode_clusters(encoded_cluster)\n",
    "print(\"Decoded Cluster:\", decoded_cluster)\n"
   ]
  },
  {
   "cell_type": "code",
   "execution_count": null,
   "id": "497f53c54d3761dc",
   "metadata": {
    "collapsed": false,
    "jupyter": {
     "outputs_hidden": false
    }
   },
   "outputs": [],
   "source": [
    "# Test Mapper Class\n",
    "print(\"\\nTesting Mapper Class\")\n",
    "\n",
    "# Create a sample sequence list\n",
    "sample_sequences = [\"ACGT\", \"TCGA\", \"ACGTGTCGAGTGT\", \"ACGATGCGCGCTAGGT\", \"ACGTGTCGCGCAATCGCTAGAC\"]\n",
    "\n",
    "# Create Mapper object and feature set\n",
    "mapper = Mapper([sample_sequences], 2, 3)\n",
    "\n",
    "# Display the feature set\n",
    "print(\"Feature Set:\", mapper.fs)\n",
    "\n",
    "# Perform clustering on the feature set\n",
    "clustered_data = cluster(mapper.hfs)\n",
    "print(\"Clustered Data:\", clustered_data)\n",
    "\n",
    "# Group similar sequences\n",
    "grouped_sequences = groupings(clustered_data, sample_sequences)\n",
    "print(\"Grouped Sequences:\", grouped_sequences)\n",
    "\n",
    "# Compress the clusters\n",
    "compressed_clusters = compress_clusters(encoded_cluster)\n",
    "print(\"Compressed Clusters:\", compressed_clusters)\n",
    "\n",
    "# Get the size of the compressed clusters\n",
    "compressed_size = get_size_compressed(compressed_clusters)\n",
    "print(\"Compressed Size:\", compressed_size)\n"
   ]
  },
  {
   "cell_type": "code",
   "execution_count": null,
   "id": "bb9b365d4823822f",
   "metadata": {
    "collapsed": false,
    "jupyter": {
     "outputs_hidden": false
    }
   },
   "outputs": [],
   "source": [
    "# Test Vectorize Mapper Class\n",
    "print(\"\\nTesting Vectorize Mapper Class\")\n",
    "\n",
    "# Read sequences from a sample fasta file\n",
    "reader = Reader()\n",
    "sequences_dict, _, _ = reader.read_fasta(\"sample/pathogen.fa\")\n",
    "sequences_list = list(sequences_dict.values())\n",
    "\n",
    "# Create VecMapper object\n",
    "vec_mapper = VecMapper()\n",
    "\n",
    "# Create k-mers\n",
    "kmers = vec_mapper.make_kmers(sequences_list, 2)\n",
    "print(\"K-mers:\", kmers)\n",
    "\n",
    "# Create feature vectors\n",
    "feature_vectors = vec_mapper.feature_vector(sequences_list, kmers)\n",
    "print(\"Feature Vectors:\", feature_vectors)\n",
    "\n",
    "# Select features with highest variance\n",
    "selected_features = vec_mapper.select_m_highest_variance(feature_vectors, 3)\n",
    "print(\"Selected Features with Highest Variance:\", selected_features)\n",
    "\n",
    "# Perform clustering\n",
    "cluster_set = Cluster().k_means(selected_features, 0.5)\n",
    "print(\"Cluster Set:\", cluster_set)\n"
   ]
  },
  {
   "cell_type": "code",
   "execution_count": null,
   "id": "d08baaea0d75e29c",
   "metadata": {
    "collapsed": false,
    "jupyter": {
     "outputs_hidden": false
    }
   },
   "outputs": [],
   "source": []
  }
 ],
 "metadata": {
  "kernelspec": {
   "display_name": "Python 3 (ipykernel)",
   "language": "python",
   "name": "python3"
  },
  "language_info": {
   "codemirror_mode": {
    "name": "ipython",
    "version": 3
   },
   "file_extension": ".py",
   "mimetype": "text/x-python",
   "name": "python",
   "nbconvert_exporter": "python",
   "pygments_lexer": "ipython3",
   "version": "3.10.14"
  }
 },
 "nbformat": 4,
 "nbformat_minor": 5
}
