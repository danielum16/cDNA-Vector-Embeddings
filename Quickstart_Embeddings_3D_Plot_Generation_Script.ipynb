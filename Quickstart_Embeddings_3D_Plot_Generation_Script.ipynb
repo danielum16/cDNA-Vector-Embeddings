{
 "cells": [
  {
   "cell_type": "markdown",
   "metadata": {},
   "source": [
    "# Collect Data\n",
    "For speed, we will use downsampled data.\n",
    "You can use any gene fast file with this script."
   ]
  },
  {
   "cell_type": "code",
   "execution_count": 1,
   "metadata": {
    "ExecuteTime": {
     "end_time": "2024-06-18T14:48:50.527718100Z",
     "start_time": "2024-06-18T14:48:50.464075600Z"
    }
   },
   "outputs": [
    {
     "name": "stdout",
     "output_type": "stream",
     "text": [
      "WARNING:tensorflow:From /Users/danielum/.pyenv/versions/3.10.14/lib/python3.10/site-packages/tensorflow/python/compat/v2_compat.py:98: disable_resource_variables (from tensorflow.python.ops.resource_variables_toggle) is deprecated and will be removed in a future version.\n",
      "Instructions for updating:\n",
      "non-resource variables are not supported in the long term\n"
     ]
    },
    {
     "data": {
      "text/html": [
       "<div>\n",
       "<style scoped>\n",
       "    .dataframe tbody tr th:only-of-type {\n",
       "        vertical-align: middle;\n",
       "    }\n",
       "\n",
       "    .dataframe tbody tr th {\n",
       "        vertical-align: top;\n",
       "    }\n",
       "\n",
       "    .dataframe thead th {\n",
       "        text-align: right;\n",
       "    }\n",
       "</style>\n",
       "<table border=\"1\" class=\"dataframe\">\n",
       "  <thead>\n",
       "    <tr style=\"text-align: right;\">\n",
       "      <th></th>\n",
       "      <th>strainName</th>\n",
       "      <th>seq</th>\n",
       "    </tr>\n",
       "  </thead>\n",
       "  <tbody>\n",
       "    <tr>\n",
       "      <th>0</th>\n",
       "      <td>sp|A0A0K2S4Q6|CD3CH_HUMAN Protein CD300H OS=Ho...</td>\n",
       "      <td>MTQRAGAAMLPSALLLLCVPGCLTVSGPSTVMGAVGESLSVQCRYE...</td>\n",
       "    </tr>\n",
       "    <tr>\n",
       "      <th>1</th>\n",
       "      <td>sp|A0A1B0GTW7|CIROP_HUMAN Ciliated left-right ...</td>\n",
       "      <td>MLLLLLLLLLLPPLVLRVAASRCLHDETQKSVSLLRPPFSQLPSKS...</td>\n",
       "    </tr>\n",
       "    <tr>\n",
       "      <th>2</th>\n",
       "      <td>sp|A0AV02|S12A8_HUMAN Solute carrier family 12...</td>\n",
       "      <td>MTQMSQVQELFHEAAQQDALAQPQPWWKTQLFMWEPVLFGTWDGVF...</td>\n",
       "    </tr>\n",
       "    <tr>\n",
       "      <th>3</th>\n",
       "      <td>sp|A0AV96|RBM47_HUMAN RNA-binding protein 47 O...</td>\n",
       "      <td>MTAEDSTAAMSSDSAAGSSAKVPEGVAGAPNEAALLALMERTGYSM...</td>\n",
       "    </tr>\n",
       "    <tr>\n",
       "      <th>4</th>\n",
       "      <td>sp|A0AVF1|IFT56_HUMAN Intraflagellar transport...</td>\n",
       "      <td>MMLSRAKPAVGRGVQHTDKRKKKGRKIPKLEELLSKRDFTGAITLL...</td>\n",
       "    </tr>\n",
       "  </tbody>\n",
       "</table>\n",
       "</div>"
      ],
      "text/plain": [
       "                                          strainName  \\\n",
       "0  sp|A0A0K2S4Q6|CD3CH_HUMAN Protein CD300H OS=Ho...   \n",
       "1  sp|A0A1B0GTW7|CIROP_HUMAN Ciliated left-right ...   \n",
       "2  sp|A0AV02|S12A8_HUMAN Solute carrier family 12...   \n",
       "3  sp|A0AV96|RBM47_HUMAN RNA-binding protein 47 O...   \n",
       "4  sp|A0AVF1|IFT56_HUMAN Intraflagellar transport...   \n",
       "\n",
       "                                                 seq  \n",
       "0  MTQRAGAAMLPSALLLLCVPGCLTVSGPSTVMGAVGESLSVQCRYE...  \n",
       "1  MLLLLLLLLLLPPLVLRVAASRCLHDETQKSVSLLRPPFSQLPSKS...  \n",
       "2  MTQMSQVQELFHEAAQQDALAQPQPWWKTQLFMWEPVLFGTWDGVF...  \n",
       "3  MTAEDSTAAMSSDSAAGSSAKVPEGVAGAPNEAALLALMERTGYSM...  \n",
       "4  MMLSRAKPAVGRGVQHTDKRKKKGRKIPKLEELLSKRDFTGAITLL...  "
      ]
     },
     "execution_count": 1,
     "metadata": {},
     "output_type": "execute_result"
    }
   ],
   "source": [
    "# Import necessary libraries\n",
    "from Bio import SeqIO\n",
    "import pandas as pd\n",
    "import numpy as np\n",
    "import tensorflow.compat.v1 as tf\n",
    "import matplotlib.pyplot as plt\n",
    "from mpl_toolkits.mplot3d import Axes3D\n",
    "\n",
    "# Disable TensorFlow v2 behavior\n",
    "tf.compat.v1.disable_v2_behavior()\n",
    "\n",
    "# Enable plotting in a separate window\n",
    "%matplotlib qt\n",
    "\n",
    "# Function to convert FASTA file to DataFrame\n",
    "def fasta2df(infile):\n",
    "    records = SeqIO.parse(infile, 'fasta')\n",
    "    seqList = []\n",
    "    for record in records:\n",
    "        desp = record.description\n",
    "        seq = str(record.seq).upper()  # Convert the sequence directly to a string and make it uppercase\n",
    "        seqList.append([desp] + [seq])\n",
    "    seq_df = pd.DataFrame(seqList, columns=['strainName', 'seq'])\n",
    "    return seq_df\n",
    "\n",
    "# Load FASTA file and convert to DataFrame\n",
    "df = fasta2df(\"data/alternative_splicing_human_10541.fasta\")\n",
    "\n",
    "# Display the first few rows of the DataFrame\n",
    "df.head()\n"
   ]
  },
  {
   "cell_type": "code",
   "execution_count": 2,
   "metadata": {
    "ExecuteTime": {
     "end_time": "2024-06-18T14:35:49.160549500Z",
     "start_time": "2024-06-18T14:35:49.156057600Z"
    }
   },
   "outputs": [
    {
     "name": "stdout",
     "output_type": "stream",
     "text": [
      "['MTQRAGAAMLPSALLLLCVPGCLTVSGPSTVMGAVGESLSVQCRYEEKYKTFNKYWCRQPCLPIWHEMVETGGSEGVVRSDQVIITDHPGDLTFTVTLENLTADDAGKYRCGIATILQEDGLSGFLPDPFFQVQVLVSSASSTENSVKTPASPTRPSQCQGSLPSSTCFLLLPLLKVPLLLSILGAILWVNRPWRTPWTES', 'MLLLLLLLLLLPPLVLRVAASRCLHDETQKSVSLLRPPFSQLPSKSRSSSLTLPSSRDPQPLRIQSCYLGDHISDGAWDPEGEGMRGGSRALAAVREATQRIQAVLAVQGPLLLSRDPAQYCHAVWGDPDSPNYHRCSLLNPGYKGESCLGAKIPDTHLRGYALWPEQGPPQLVQPDGPGVQNTDFLLYVRVAHTSKCHQETVSLCCPGWSTAAQSQLTAALTSWAQRRGFVMLPRLCLKLLGSSNLPTLASQSIRITGPSVIAYAACCQLDSEDRPLAGTIVYCAQHLTSPSLSHSDIVMATLHELLHALGFSGQLFKKWRDCPSGFSVRENCSTRQLVTRQDEWGQLLLTTPAVSLSLAKHLGVSGASLGVPLEEEEGLLSSHWEARLLQGSLMTATFDGAQRTRLDPITLAAFKDSGWYQVNHSAAEELLWGQGSGPEFGLVTTCGTGSSDFFCTGSGLGCHYLHLDKGSCSSDPMLEGCRMYKPLANGSECWKKENGFPAGVDNPHGEIYHPQSRCFFANLTSQLLPGDKPRHPSLTPHLKEAELMGRCYLHQCTGRGAYKVQVEGSPWVPCLPGKVIQIPGYYGLLFCPRGRLCQTNEDINAVTSPPVSLSTPDPLFQLSLELAGPPGHSLGKEQQEGLAEAVLEALASKGGTGRCYFHGPSITTSLVFTVHMWKSPGCQGPSVATLHKALTLTLQKKPLEVYHGGANFTTQPSKLLVTSDHNPSMTHLRLSMGLCLMLLILVGVMGTTAYQKRATLPVRPSASYHSPELHSTRVPVRGIREV', 'MTQMSQVQELFHEAAQQDALAQPQPWWKTQLFMWEPVLFGTWDGVFTSCMINIFGVVLFLRTGWLVGNTGVLLGMFLVSFVILVALVTVLSGIGVGERSSIGSGGVYSMISSVLGGQTGGTIGLLYVFGQCVAGAMYITGFAESISDLLGLGNIWAVRGISVAVLLALLGINLAGVKWIIRLQLLLLFLLAVSTLDFVVGSFTHLDPEHGFIGYSPELLQNNTLPDYSPGESFFTVFGVFFPAATGVMAGFNMGGDLREPAASIPLGSLAAVGISWFLYIIFVFLLGAICTREALRYDFLIAEKVSLMGFLFLLGLYISSLASCMGGLYGAPRILQCIAQEKVIPALACLGQGKGPNKTPVAAICLTSLVTMAFVFVGQVNVLAPIVTINFMLTYVAVDYSYFSLSMCSCSLTPVPEPVLREGAEGLHCSEHLLLEKAPSYGSEGPAQRVLEGTLLEFTKDMDQLLQLTRKLESSQPRQGEGNRTPESQKRKSKKATKQTLQDSFLLDLKSPPSFPVEISDRLPAASWEGQESCWNKQTSKSEGTQPEGTYGEQLVPELCNQSESSGEDFFLKSRLQEQDVWRRSTSFYTHMCNPWVSLLGAVGSLLIMFVIQWVYTLVNMGVAAIVYFYIGRASPGLHLGSASNFSFFRWMRSLLLPSCRSLRSPQEQIILAPSLAKVDMEMTQLTQENADFATRDRYHHSSLVNREQLMPHY', 'MTAEDSTAAMSSDSAAGSSAKVPEGVAGAPNEAALLALMERTGYSMVQENGQRKYGGPPPGWEGPHPQRGCEVFVGKIPRDVYEDELVPVFEAVGRIYELRLMMDFDGKNRGYAFVMYCHKHEAKRAVRELNNYEIRPGRLLGVCCSVDNCRLFIGGIPKMKKREEILEEIAKVTEGVLDVIVYASAADKMKNRGFAFVEYESHRAAAMARRKLMPGRIQLWGHQIAVDWAEPEIDVDEDVMETVKILYVRNLMIETTEDTIKKSFGQFNPGCVERVKKIRDYAFVHFTSREDAVHAMNNLNGTELEGSCLEVTLAKPVDKEQYSRYQKAARGGGAAEAAQQPSYVYSCDPYTLAYYGYPYNALIGPNRDYFVKAGSIRGRGRGAAGNRAPGPRGSYLGGYSAGRGIYSRYHEGKGKQQEKGYELVPNLEIPTVNPVAIKPGTVAIPAIGAQYSMFPAAPAPKMIEDGKIHTVEHMISPIAVQPDPASAAAAAAAAAAAAAAVIPTVSTPPPFQGRPITPVYTVAPNVQRIPTAGIYGASYVPFAAPATATIATLQKNAAAAAAMYGGYAGYIPQAFPAAAIQVPIPDVYQTY', 'MMLSRAKPAVGRGVQHTDKRKKKGRKIPKLEELLSKRDFTGAITLLEFKRHVGEEEEDTNLWIGYCAFHLGDYKRALEEYENATKEENCNSEVWVNLACTYFFLGMYKQAEAAGFKASKSRLQNRLLFHLAHKFNDEKKLMSFHQNLQDVTEDQLSLASIHYMRSHYQEAIDIYKRILLDNREYLALNVYVALCYYKLDYYDVSQEVLAVYLQQIPDSTIALNLKACNHFRLYNGRAAEAELKSLMDNASSSFEFAKELIRHNLVVFRGGEGALQVLPPLVDVIPEARLNLVIYYLRQDDVQEAYNLIKDLEPTTPQEYILKGVVNAALGQEMGSRDHMKIAQQFFQLVGGSASECDTIPGRQCMASCFFLLKQFDDVLIYLNSFKSYFYNDDIFNFNYAQAKAATGNTSEGEEAFLLIQSEKMKNDYIYLSWLARCYIMNKKPRLAWELYLKMETSGESFSLLQLIANDCYKMGQFYYSAKAFDVLERLDPNPEYWEGKRGACVGIFQMIIAGREPKETLREVLHLLRSTGNTQVEYMIRIMKKWAKENRVSI', 'MDSPEVTFTLAYLVFAVCFVFTPNEFHAAGLTVQNLLSGWLGSEDAAFVPFHLRRTAATLLCHSLLPLGYYVGMCLAASEKRLHALSQAPEAWRLFLLLAVTLPSIACILIYYWSRDRWACHPLARTLALYALPQSGWQAVASSVNTEFRRIDKFATGAPGARVIVTDTWVMKVTTYRVHVAQQQDVHLTVTESRQHELSPDSNLPVQLLTIRVASTNPAVQAFDIWLNSTEYGELCEKLRAPIRRAAHVVIHQSLGDLFLETFASLVEVNPAYSVPSSQELEACIGCMQTRASVKLVKTCQEAATGECQQCYCRPMWCLTCMGKWFASRQDPLRPDTWLASRVPCPTCRARFCILDVCTVR', 'MEGSEPVAAHQGEEASCSSWGTGSTNKNLPIMSTASVEIDDALYSRQRYVLGDTAMQKMAKSHVFLSGMGGLGLEIAKNLVLAGIKAVTIHDTEKCQAWDLGTNFFLSEDDVVNKRNRAEAVLKHIAELNPYVHVTSSSVPFNETTDLSFLDKYQCVVLTEMKLPLQKKINDFCRSQCPPIKFISADVHGIWSRLFCDFGDEFEVLDTTGEEPKEIFISNITQANPGIVTCLENHPHKLETGQFLTFREINGMTGLNGSIQQITVISPFSFSIGDTTELEPYLHGGIAVQVKTPKTVFFESLERQLKHPKCLIVDFSNPEAPLEIHTAMLALDQFQEKYSRKPNVGCQQDSEELLKLATSISETLEEKPDVNADIVHWLSWTAQGFLSPLAAAVGGVASQEVLKAVTGKFSPLCQWLYLEAADIVESLGKPECEEFLPRGDRYDALRACIGDTLCQKLQNLNIFLVGCGAIGCEMLKNFALLGVGTSKEKGMITVTDPDLIEKSNLNRQFLFRPHHIQKPKSYTAADATLKINSQIKIDAHLNKVCPTTETIYNDEFYTKQDVIITALDNVEARRYVDSRCLANLRPLLDSGTMGTKGHTEVIVPHLTESYNSHRDPPEEEIPFCTLKSFPAAIEHTIQWARDKFESSFSHKPSLFNKFWQTYSSAEEVLQKIQSGHSLEGCFQVIKLLSRRPRNWSQCVELARLKFEKYFNHKALQLLHCFPLDIRLKDGSLFWQSPKRPPSPIKFDLNEPLHLSFLQNAAKLYATVYCIPFAEEDLSADALLNILSEVKIQEFKPSNKVVQTDETARKPDHVPISSEDERNAIFQLEKAILSNEATKSDLQMAVLSFEKDDDHNGHIDFITAASNLRAKMYSIEPADRFKTKRIAGKIIPAIATTTATVSGLVALEMIKVTGGYPFEAYKNCFLNLAIPIVVFTETTEVRKTKIRNGISFTIWDRWTVHGKEDFTLLDFINAVKEKYGIEPTMVVQGVKMLYVPVMPGHAKRLKLTMHKLVKPTTEKKYVDLTVSFAPDIDGDEDLPGPPVRYYFSHDTD', 'MTANRDAALSSHRHPGCAQRPRTPTFASSSQRRSAFGFDDGNFPGLGERSHAPGSRLGARRRAKTARGLRGHRQRGAGAGLSRPGSARAPSPPRPGGPENPGGVLSVELPGLLAQLARSFALLLPVYALGYLGLSFSWVLLALALLAWCRRSRGLKALRLCRALALLEDEERVVRLGVRACDLPAWVHFPDTERAEWLNKTVKHMWPFICQFIEKLFRETIEPAVRGANTHLSTFSFTKVDVGQQPLRINGVKVYTENVDKRQIILDLQISFVGNCEIDLEIKRYFCRAGVKSIQIHGTMRVILEPLIGDMPLVGALSIFFLRKPLLEINWTGLTNLLDVPGLNGLSDTIILDIISNYLVLPNRITVPLVSEVQIAQLRFPVPKGVLRIHFIEAQDLQGKDTYLKGLVKGKSDPYGIIRVGNQIFQSRVIKENLSPKWNEVYEALVYEHPGQELEIELFDEDPDKDDFLGSLMIDLIEVEKERLLDEWFTLDEVPKGKLHLRLEWLTLMPNASNLDKVLTDIKADKDQANDGLSSALLILYLDSARNLPSGKKISSNPNPVVQMSVGHKAQESKIRYKTNEPVWEENFTFFIHNPKRQDLEVEVRDEQHQCSLGNLKVPLSQLLTSEDMTVSQRFQLSNSGPNSTIKMKIALRVLHLEKRERPPDHQHSAQVKRPSVSKEGRKTSIKSHMSGSPGPGGSNTAPSTPVIGGSDKPGMEEKAQPPEAGPQGLHDLGRSSSSLLASPGHISVKEPTPSIASDISLPIATQELRQRLRQLENGTTLGQSPLGQIQLTIRHSSQRNKLIVVVHACRNLIAFSEDGSDPYVRMYLLPDKRRSGRRKTHVSKKTLNPVFDQSFDFSVSLPEVQRRTLDVAVKNSGGFLSKDKGLLGKVLVALASEELAKGWTQWYDLTEDGTRPQAMT', 'MRAEEPCAPGAPSALGAQRTPGPELRLSSQLLPELCTFVVRVLFYLGPVYLAGYLGLSITWLLLGALLWMWWRRNRRGKLGRLAAAFEFLDNEREFISRELRGQHLPAWIHFPDVERVEWANKIISQTWPYLSMIMESKFREKLEPKIREKSIHLRTFTFTKLYFGQKCPRVNGVKAHTNTCNRRRVTVDLQICYIGDCEISVELQKIQAGVNGIQLQGTLRVILEPLLVDKPFVGAVTVFFLQKPHLQINWTGLTNLLDAPGINDVSDSLLEDLIATHLVLPNRVTVPVKKGLDLTNLRFPLPCGVIRVHLLEAEQLAQKDNFLGLRGKSDPYAKVSIGLQHFRSRTIYRNLNPTWNEVFEFMVYEVPGQDLEVDLYDEDTDRDDFLGSLQICLGDVMTNRVVDEWFVLNDTTSGRLHLRLEWLSLLTDQEVLTEDHGGLSTAILVVFLESACNLPRNPFDYLNGEYRAKKLSRFARNKVSKDPSSYVKLSVGKKTHTSKTCPHNKDPVWSQVFSFFVHNVATERLHLKVLDDDQECALGMLEVPLCQILPYADLTLEQRFQLDHSGLDSLISMRLVLRFLQVEERELGSPYTGPEALKKGPLLIKKVATNQGPKAQPQEEGPTDLPCPPDPASDTKDVSRSTTTTTSATTVATEPTSQETGPEPKGKDSAKRFCEPIGEKKSPATIFLTVPGPHSPGPIKSPRPMKCPASPFAWPPKRLAPSMSSLNSLASSCFDLADISLNIEGGDLRRRQLGEIQLTVRYVCLRRCLSVLINGCRNLTPCTSSGADPYVRVYLLPERKWACRKKTSVKRKTLEPLFDETFEFFVPMEEVKKRSLDVAVKNSRPLGSHRRKELGKVLIDLSKEDLIKGFSQWYELTPNGQPRS', 'MENFTALFGAQADPPPPPTALGFGPGKPPPPPPPPAGGGPGTAPPPTAATAPPGADKSGAGCGPFYLMRELPGSTELTGSTNLITHYNLEQAYNKFCGKKVKEKLSNFLPDLPGMIDLPGSHDNSSLRSLIEKPPILSSSFNPITGTMLAGFRLHTGPLPEQCRLMHIQPPKKKNKHKHKQSRTQDPVPPETPSDSDHKKKKKKKEEDPDRKRKKKEKKKKKNRHSPDHPGMGSSQASSSSSLR']\n",
      "10541\n"
     ]
    }
   ],
   "source": [
    "# Extract sequences from the DataFrame into a list (corpus)\n",
    "corpus = list(df['seq'])\n",
    "\n",
    "# Print the first 10 sequences from the corpus\n",
    "print(corpus[:10])\n",
    "\n",
    "# Print the total number of sequences in the corpus\n",
    "print(len(corpus))\n"
   ]
  },
  {
   "cell_type": "code",
   "execution_count": 3,
   "metadata": {
    "ExecuteTime": {
     "end_time": "2024-06-18T14:35:49.164185500Z",
     "start_time": "2024-06-18T14:35:49.161549400Z"
    }
   },
   "outputs": [],
   "source": [
    "# Define base mapping dictionaries for encoding and decoding\n",
    "__mapping = {\"A\": 8, \"C\": 4, \"G\": 2, \"T\": 1, \"N\": 15, \"E\": 0}\n",
    "__rmapping = {8: \"A\", 4: \"C\", 2: \"G\", 1: \"T\", 15: \"N\", 0: \"E\"}\n",
    "\n",
    "# Define the base size for encoding\n",
    "base_size = 2**8\n",
    "\n",
    "# Function to encode a DNA sequence into an integer\n",
    "def encode_sequence(sequence):\n",
    "    val = 0\n",
    "    for i, base in enumerate(sequence):\n",
    "        print(base)\n",
    "        val += __mapping[base] * (2**8**i)\n",
    "    return val\n",
    "\n",
    "# Function to decode an integer back into a DNA sequence\n",
    "def decode_sequence(val):\n",
    "    import math\n",
    "\n",
    "    sequence = \"\"\n",
    "    n = math.floor(math.log(val) / math.log(base_size))\n",
    "\n",
    "    while val > 0:\n",
    "        next_layer = val % base_size**n\n",
    "        sequence = str(__rmapping[int((val - next_layer) / base_size**n)]) + sequence\n",
    "        n -= 1\n",
    "        val = next_layer\n",
    "\n",
    "    return sequence\n"
   ]
  },
  {
   "cell_type": "markdown",
   "metadata": {},
   "source": [
    "# Downsample: A Larger n Results in a Longer Training Time"
   ]
  },
  {
   "cell_type": "code",
   "execution_count": 4,
   "metadata": {
    "ExecuteTime": {
     "end_time": "2024-06-18T14:35:49.167575200Z",
     "start_time": "2024-06-18T14:35:49.163561600Z"
    }
   },
   "outputs": [],
   "source": [
    "n=2500"
   ]
  },
  {
   "cell_type": "markdown",
   "metadata": {},
   "source": [
    "# Remove _"
   ]
  },
  {
   "cell_type": "code",
   "execution_count": 5,
   "metadata": {
    "ExecuteTime": {
     "end_time": "2024-06-18T14:35:49.170182400Z",
     "start_time": "2024-06-18T14:35:49.166575100Z"
    }
   },
   "outputs": [],
   "source": [
    "# Function to remove null amino acids from sequences\n",
    "def remove_null_AA(corpus_dna_new):\n",
    "    null_AAs = ['_', '_', \"_\", \"_\", \"_\", \"_\", \"_\"]\n",
    "    results = []\n",
    "    print(len(corpus_dna_new))\n",
    "    for text in corpus_dna_new:\n",
    "        tmp = list(text)\n",
    "        for null_AA in null_AAs:\n",
    "            if null_AA in tmp:\n",
    "                tmp.remove(null_AA)\n",
    "        results.append(\"\".join(tmp))\n",
    "    \n",
    "    return results\n"
   ]
  },
  {
   "cell_type": "code",
   "execution_count": 6,
   "metadata": {
    "ExecuteTime": {
     "end_time": "2024-06-18T14:35:49.177093100Z",
     "start_time": "2024-06-18T14:35:49.170182400Z"
    }
   },
   "outputs": [],
   "source": [
    "# Function to extract unique amino acids from sequences\n",
    "def amin(corpus_dna_new):\n",
    "    amino_acids = []\n",
    "    for text in corpus_dna_new:\n",
    "        for AA in list(text):\n",
    "            amino_acids.append(AA)\n",
    "    \n",
    "    amino_acids = set(amino_acids)\n",
    "    return list(amino_acids)\n"
   ]
  },
  {
   "cell_type": "code",
   "execution_count": 7,
   "metadata": {
    "ExecuteTime": {
     "end_time": "2024-06-18T14:35:49.428200100Z",
     "start_time": "2024-06-18T14:35:49.191097600Z"
    }
   },
   "outputs": [
    {
     "data": {
      "text/plain": [
       "['K',\n",
       " 'Y',\n",
       " 'A',\n",
       " 'R',\n",
       " 'U',\n",
       " 'S',\n",
       " 'P',\n",
       " 'Q',\n",
       " 'C',\n",
       " 'T',\n",
       " 'V',\n",
       " 'H',\n",
       " 'F',\n",
       " 'N',\n",
       " 'M',\n",
       " 'I',\n",
       " 'G',\n",
       " 'D',\n",
       " 'W',\n",
       " 'E',\n",
       " 'L']"
      ]
     },
     "execution_count": 7,
     "metadata": {},
     "output_type": "execute_result"
    }
   ],
   "source": [
    "# Extract and display unique amino acids from the corpus\n",
    "amino_acids = amin(corpus)\n",
    "amino_acids\n"
   ]
  },
  {
   "cell_type": "markdown",
   "metadata": {},
   "source": [
    "# data generation"
   ]
  },
  {
   "cell_type": "code",
   "execution_count": 8,
   "metadata": {
    "ExecuteTime": {
     "end_time": "2024-06-18T14:35:49.431483100Z",
     "start_time": "2024-06-18T14:35:49.428200100Z"
    }
   },
   "outputs": [],
   "source": [
    "# Function to convert amino acids to integers and generate training data\n",
    "def data_out(amino_acids, corpus_dna_new):\n",
    "    AA2int = {}\n",
    "\n",
    "    # Create a mapping from amino acids to integers\n",
    "    for i, AA in enumerate(amino_acids):\n",
    "        AA2int[AA] = i\n",
    "\n",
    "    sentences = []\n",
    "    for sentence in corpus_dna_new:\n",
    "        sentences.append(list(sentence))\n",
    "\n",
    "    WINDOW_SIZE = 2\n",
    "\n",
    "    data = []\n",
    "    for sentence in sentences:\n",
    "        for idx, AA in enumerate(sentence):\n",
    "            for neighbor in sentence[max(idx - WINDOW_SIZE, 0) : min(idx + WINDOW_SIZE, len(sentence)) + 1]:\n",
    "                if neighbor != AA:\n",
    "                    data.append([AA, neighbor])\n",
    "    \n",
    "    return AA2int, data\n"
   ]
  },
  {
   "cell_type": "code",
   "execution_count": 9,
   "metadata": {
    "ExecuteTime": {
     "end_time": "2024-06-18T14:36:04.986664900Z",
     "start_time": "2024-06-18T14:35:49.430482900Z"
    }
   },
   "outputs": [
    {
     "name": "stderr",
     "output_type": "stream",
     "text": [
      "IOPub data rate exceeded.\n",
      "The Jupyter server will temporarily stop sending output\n",
      "to the client in order to avoid crashing it.\n",
      "To change this limit, set the config variable\n",
      "`--ServerApp.iopub_data_rate_limit`.\n",
      "\n",
      "Current values:\n",
      "ServerApp.iopub_data_rate_limit=1000000.0 (bytes/sec)\n",
      "ServerApp.rate_limit_window=3.0 (secs)\n",
      "\n"
     ]
    }
   ],
   "source": [
    "# Generate the amino acid to integer mapping and training data\n",
    "AA2int, data = data_out(amino_acids, corpus)\n",
    "\n",
    "# Display the AA to integer mapping and training data\n",
    "print(AA2int)\n",
    "print(data)\n"
   ]
  },
  {
   "cell_type": "code",
   "execution_count": 10,
   "metadata": {
    "ExecuteTime": {
     "end_time": "2024-06-18T14:36:05.230558200Z",
     "start_time": "2024-06-18T14:36:05.229562Z"
    }
   },
   "outputs": [],
   "source": [
    "# Function to convert data into a pandas DataFrame\n",
    "def pandify(data):\n",
    "    df = pd.DataFrame(data, columns=['input', 'label'])\n",
    "    return df\n"
   ]
  },
  {
   "cell_type": "code",
   "execution_count": 11,
   "metadata": {
    "ExecuteTime": {
     "start_time": "2024-06-18T14:36:05.230558200Z"
    }
   },
   "outputs": [
    {
     "data": {
      "text/html": [
       "<div>\n",
       "<style scoped>\n",
       "    .dataframe tbody tr th:only-of-type {\n",
       "        vertical-align: middle;\n",
       "    }\n",
       "\n",
       "    .dataframe tbody tr th {\n",
       "        vertical-align: top;\n",
       "    }\n",
       "\n",
       "    .dataframe thead th {\n",
       "        text-align: right;\n",
       "    }\n",
       "</style>\n",
       "<table border=\"1\" class=\"dataframe\">\n",
       "  <thead>\n",
       "    <tr style=\"text-align: right;\">\n",
       "      <th></th>\n",
       "      <th>input</th>\n",
       "      <th>label</th>\n",
       "    </tr>\n",
       "  </thead>\n",
       "  <tbody>\n",
       "    <tr>\n",
       "      <th>0</th>\n",
       "      <td>M</td>\n",
       "      <td>T</td>\n",
       "    </tr>\n",
       "    <tr>\n",
       "      <th>1</th>\n",
       "      <td>M</td>\n",
       "      <td>Q</td>\n",
       "    </tr>\n",
       "    <tr>\n",
       "      <th>2</th>\n",
       "      <td>T</td>\n",
       "      <td>M</td>\n",
       "    </tr>\n",
       "    <tr>\n",
       "      <th>3</th>\n",
       "      <td>T</td>\n",
       "      <td>Q</td>\n",
       "    </tr>\n",
       "    <tr>\n",
       "      <th>4</th>\n",
       "      <td>T</td>\n",
       "      <td>R</td>\n",
       "    </tr>\n",
       "    <tr>\n",
       "      <th>...</th>\n",
       "      <td>...</td>\n",
       "      <td>...</td>\n",
       "    </tr>\n",
       "    <tr>\n",
       "      <th>2495</th>\n",
       "      <td>A</td>\n",
       "      <td>N</td>\n",
       "    </tr>\n",
       "    <tr>\n",
       "      <th>2496</th>\n",
       "      <td>A</td>\n",
       "      <td>G</td>\n",
       "    </tr>\n",
       "    <tr>\n",
       "      <th>2497</th>\n",
       "      <td>N</td>\n",
       "      <td>L</td>\n",
       "    </tr>\n",
       "    <tr>\n",
       "      <th>2498</th>\n",
       "      <td>N</td>\n",
       "      <td>A</td>\n",
       "    </tr>\n",
       "    <tr>\n",
       "      <th>2499</th>\n",
       "      <td>N</td>\n",
       "      <td>G</td>\n",
       "    </tr>\n",
       "  </tbody>\n",
       "</table>\n",
       "<p>2500 rows × 2 columns</p>\n",
       "</div>"
      ],
      "text/plain": [
       "     input label\n",
       "0        M     T\n",
       "1        M     Q\n",
       "2        T     M\n",
       "3        T     Q\n",
       "4        T     R\n",
       "...    ...   ...\n",
       "2495     A     N\n",
       "2496     A     G\n",
       "2497     N     L\n",
       "2498     N     A\n",
       "2499     N     G\n",
       "\n",
       "[2500 rows x 2 columns]"
      ]
     },
     "execution_count": 11,
     "metadata": {},
     "output_type": "execute_result"
    }
   ],
   "source": [
    "# Convert the data into a pandas DataFrame\n",
    "df = pandify(data)\n",
    "\n",
    "# Downsample the DataFrame to the first 'n' rows\n",
    "df_downsampled = df.head(n)\n",
    "\n",
    "# Display the downsampled DataFrame\n",
    "df_downsampled\n"
   ]
  },
  {
   "cell_type": "markdown",
   "metadata": {},
   "source": [
    "# Define Tensorflow Graph"
   ]
  },
  {
   "cell_type": "code",
   "execution_count": 12,
   "metadata": {
    "ExecuteTime": {
     "start_time": "2024-06-18T14:36:05.232561900Z"
    }
   },
   "outputs": [],
   "source": [
    "# Function to convert numbers to one hot vectors\n",
    "def to_one_hot_encoding(data_point_index, amino_acids):\n",
    "    ONE_HOT_DIM = len(amino_acids)\n",
    "    one_hot_encoding = np.zeros(ONE_HOT_DIM)\n",
    "    one_hot_encoding[data_point_index] = 1\n",
    "    return one_hot_encoding\n"
   ]
  },
  {
   "cell_type": "code",
   "execution_count": 13,
   "metadata": {
    "ExecuteTime": {
     "start_time": "2024-06-18T14:36:05.233561900Z"
    }
   },
   "outputs": [],
   "source": [
    "# Function to define the computational graph for training the model\n",
    "def define_graph(AA2int, amino_acids, df):\n",
    "    ONE_HOT_DIM = len(amino_acids)\n",
    "    X = []  # input amino acid\n",
    "    Y = []  # target amino acid\n",
    "\n",
    "    for x, y in zip(df['input'], df['label']):\n",
    "        X.append(to_one_hot_encoding(AA2int[x], amino_acids))\n",
    "        Y.append(to_one_hot_encoding(AA2int[y], amino_acids))\n",
    "\n",
    "    # Convert them to numpy arrays\n",
    "    X_train = np.asarray(X)\n",
    "    Y_train = np.asarray(Y)\n",
    "\n",
    "    # Placeholders for X_train and Y_train\n",
    "    x = tf.placeholder(tf.float32, shape=(None, ONE_HOT_DIM))\n",
    "    y_label = tf.placeholder(tf.float32, shape=(None, ONE_HOT_DIM))\n",
    "\n",
    "    # AA embedding will be 3 dimension for 3D visualization\n",
    "    EMBEDDING_DIM = 3\n",
    "\n",
    "    # Hidden layer: which represents AA vector eventually\n",
    "    W1 = tf.Variable(tf.random_normal([ONE_HOT_DIM, EMBEDDING_DIM]))\n",
    "    b1 = tf.Variable(tf.random_normal([1]))  # Bias\n",
    "    hidden_layer = tf.add(tf.matmul(x, W1), b1)\n",
    "\n",
    "    # Output layer\n",
    "    W2 = tf.Variable(tf.random_normal([EMBEDDING_DIM, ONE_HOT_DIM]))\n",
    "    b2 = tf.Variable(tf.random_normal([1]))\n",
    "    prediction = tf.nn.softmax(tf.add(tf.matmul(hidden_layer, W2), b2))\n",
    "\n",
    "    # Loss function: cross entropy\n",
    "    loss = tf.reduce_mean(-tf.reduce_sum(y_label * tf.log(prediction), axis=[1]))\n",
    "\n",
    "    # Training operation\n",
    "    train_op = tf.train.GradientDescentOptimizer(0.05).minimize(loss)\n",
    "    \n",
    "    return X_train, Y_train, x, y_label, W1, b1, W2, b2, loss, train_op\n"
   ]
  },
  {
   "cell_type": "code",
   "execution_count": 14,
   "metadata": {
    "ExecuteTime": {
     "end_time": "2024-06-18T14:36:05.244044900Z",
     "start_time": "2024-06-18T14:36:05.234562400Z"
    }
   },
   "outputs": [
    {
     "name": "stdout",
     "output_type": "stream",
     "text": [
      "X_train_downsampled shape: (2500, 21)\n",
      "Y_train_downsampled shape: (2500, 21)\n"
     ]
    }
   ],
   "source": [
    "# Define the computational graph using the downsampled DataFrame\n",
    "X_train_downsampled, Y_train_downsampled, x_downsampled, y_label_downsampled, W1_downsampled, b1_downsampled, W2_downsampled, b2_downsampled, loss_downsampled, train_op_downsampled = define_graph(AA2int, amino_acids, df_downsampled)\n",
    "\n",
    "# Display the shapes of the training data arrays\n",
    "print(f\"X_train_downsampled shape: {X_train_downsampled.shape}\")\n",
    "print(f\"Y_train_downsampled shape: {Y_train_downsampled.shape}\")\n"
   ]
  },
  {
   "cell_type": "markdown",
   "metadata": {},
   "source": [
    "# Downsampled"
   ]
  },
  {
   "cell_type": "markdown",
   "metadata": {},
   "source": [
    "## Train"
   ]
  },
  {
   "cell_type": "code",
   "execution_count": 15,
   "metadata": {
    "ExecuteTime": {
     "end_time": "2024-06-18T14:36:12.633377400Z",
     "start_time": "2024-06-18T14:36:05.244044900Z"
    }
   },
   "outputs": [
    {
     "name": "stdout",
     "output_type": "stream",
     "text": [
      "Iteration 0, loss: 6.184248924255371\n"
     ]
    },
    {
     "name": "stderr",
     "output_type": "stream",
     "text": [
      "2024-08-15 21:14:35.950653: I tensorflow/compiler/mlir/mlir_graph_optimization_pass.cc:388] MLIR V1 optimization pass is not enabled\n"
     ]
    },
    {
     "name": "stdout",
     "output_type": "stream",
     "text": [
      "Iteration 3000, loss: 2.8214454650878906\n",
      "Iteration 6000, loss: 2.8056721687316895\n",
      "Iteration 9000, loss: 2.801572322845459\n",
      "Iteration 12000, loss: 2.799755811691284\n",
      "Iteration 15000, loss: 2.798757791519165\n",
      "Iteration 18000, loss: 2.7981300354003906\n"
     ]
    }
   ],
   "source": [
    "# Initialize and run the TensorFlow session\n",
    "sess = tf.Session()\n",
    "init = tf.global_variables_initializer()\n",
    "sess.run(init)\n",
    "\n",
    "# Training loop\n",
    "iteration = 20000\n",
    "for i in range(iteration):\n",
    "    # Input is X_train which is one hot encoded AA\n",
    "    # Label is Y_train which is one hot encoded neighbor AA\n",
    "    sess.run(train_op_downsampled, feed_dict={x_downsampled: X_train_downsampled, y_label_downsampled: Y_train_downsampled})\n",
    "    if i % 3000 == 0:\n",
    "        loss_value = sess.run(loss_downsampled, feed_dict={x_downsampled: X_train_downsampled, y_label_downsampled: Y_train_downsampled})\n",
    "        print(f'Iteration {i}, loss: {loss_value}')\n"
   ]
  },
  {
   "cell_type": "code",
   "execution_count": 16,
   "metadata": {
    "ExecuteTime": {
     "end_time": "2024-06-18T14:36:12.641341300Z",
     "start_time": "2024-06-18T14:36:12.633377400Z"
    }
   },
   "outputs": [],
   "source": [
    "# Now the hidden layer (W1 + b1) is actually the AA lookup table\n",
    "vectors_downsampled = sess.run(W1_downsampled + b1_downsampled)\n",
    "\n",
    "# Optionally, print the vectors\n",
    "# print(vectors_downsampled)\n"
   ]
  },
  {
   "cell_type": "markdown",
   "metadata": {},
   "source": [
    "## AA vector in table"
   ]
  },
  {
   "cell_type": "code",
   "execution_count": 17,
   "metadata": {
    "ExecuteTime": {
     "end_time": "2024-06-18T14:36:12.646945700Z",
     "start_time": "2024-06-18T14:36:12.641341300Z"
    }
   },
   "outputs": [],
   "source": [
    "# Create a DataFrame with the amino acid vectors\n",
    "w2v_df_downsampled = pd.DataFrame(vectors_downsampled, columns=['x1', 'x2', 'x3'])\n",
    "w2v_df_downsampled['AA'] = amino_acids\n",
    "w2v_df_downsampled = w2v_df_downsampled[['AA', 'x1', 'x2', 'x3']]\n",
    "\n",
    "# Optionally, display the DataFrame\n",
    "# w2v_df_downsampled\n"
   ]
  },
  {
   "cell_type": "code",
   "execution_count": 18,
   "metadata": {
    "ExecuteTime": {
     "end_time": "2024-06-18T14:36:12.653280700Z",
     "start_time": "2024-06-18T14:36:12.646945700Z"
    }
   },
   "outputs": [
    {
     "data": {
      "text/html": [
       "<div>\n",
       "<style scoped>\n",
       "    .dataframe tbody tr th:only-of-type {\n",
       "        vertical-align: middle;\n",
       "    }\n",
       "\n",
       "    .dataframe tbody tr th {\n",
       "        vertical-align: top;\n",
       "    }\n",
       "\n",
       "    .dataframe thead th {\n",
       "        text-align: right;\n",
       "    }\n",
       "</style>\n",
       "<table border=\"1\" class=\"dataframe\">\n",
       "  <thead>\n",
       "    <tr style=\"text-align: right;\">\n",
       "      <th></th>\n",
       "      <th>AA</th>\n",
       "      <th>x1</th>\n",
       "      <th>x2</th>\n",
       "      <th>x3</th>\n",
       "    </tr>\n",
       "  </thead>\n",
       "  <tbody>\n",
       "    <tr>\n",
       "      <th>0</th>\n",
       "      <td>K</td>\n",
       "      <td>0.499363</td>\n",
       "      <td>0.568471</td>\n",
       "      <td>1.418411</td>\n",
       "    </tr>\n",
       "    <tr>\n",
       "      <th>1</th>\n",
       "      <td>Y</td>\n",
       "      <td>0.642085</td>\n",
       "      <td>0.706680</td>\n",
       "      <td>0.449527</td>\n",
       "    </tr>\n",
       "    <tr>\n",
       "      <th>2</th>\n",
       "      <td>A</td>\n",
       "      <td>0.441130</td>\n",
       "      <td>1.527710</td>\n",
       "      <td>1.026945</td>\n",
       "    </tr>\n",
       "    <tr>\n",
       "      <th>3</th>\n",
       "      <td>R</td>\n",
       "      <td>0.955668</td>\n",
       "      <td>1.802421</td>\n",
       "      <td>0.517828</td>\n",
       "    </tr>\n",
       "    <tr>\n",
       "      <th>4</th>\n",
       "      <td>U</td>\n",
       "      <td>2.852376</td>\n",
       "      <td>0.718355</td>\n",
       "      <td>1.796830</td>\n",
       "    </tr>\n",
       "    <tr>\n",
       "      <th>5</th>\n",
       "      <td>S</td>\n",
       "      <td>0.438221</td>\n",
       "      <td>1.379497</td>\n",
       "      <td>1.294718</td>\n",
       "    </tr>\n",
       "    <tr>\n",
       "      <th>6</th>\n",
       "      <td>P</td>\n",
       "      <td>0.164909</td>\n",
       "      <td>1.908115</td>\n",
       "      <td>0.954544</td>\n",
       "    </tr>\n",
       "    <tr>\n",
       "      <th>7</th>\n",
       "      <td>Q</td>\n",
       "      <td>1.109144</td>\n",
       "      <td>1.668765</td>\n",
       "      <td>0.606969</td>\n",
       "    </tr>\n",
       "    <tr>\n",
       "      <th>8</th>\n",
       "      <td>C</td>\n",
       "      <td>0.823256</td>\n",
       "      <td>0.917325</td>\n",
       "      <td>1.920328</td>\n",
       "    </tr>\n",
       "    <tr>\n",
       "      <th>9</th>\n",
       "      <td>T</td>\n",
       "      <td>0.940858</td>\n",
       "      <td>1.127186</td>\n",
       "      <td>0.778292</td>\n",
       "    </tr>\n",
       "    <tr>\n",
       "      <th>10</th>\n",
       "      <td>V</td>\n",
       "      <td>0.686744</td>\n",
       "      <td>0.887061</td>\n",
       "      <td>1.881717</td>\n",
       "    </tr>\n",
       "    <tr>\n",
       "      <th>11</th>\n",
       "      <td>H</td>\n",
       "      <td>0.475969</td>\n",
       "      <td>2.082914</td>\n",
       "      <td>0.411187</td>\n",
       "    </tr>\n",
       "    <tr>\n",
       "      <th>12</th>\n",
       "      <td>F</td>\n",
       "      <td>0.870300</td>\n",
       "      <td>2.619247</td>\n",
       "      <td>0.549647</td>\n",
       "    </tr>\n",
       "    <tr>\n",
       "      <th>13</th>\n",
       "      <td>N</td>\n",
       "      <td>1.255692</td>\n",
       "      <td>1.796749</td>\n",
       "      <td>0.979880</td>\n",
       "    </tr>\n",
       "    <tr>\n",
       "      <th>14</th>\n",
       "      <td>M</td>\n",
       "      <td>1.225356</td>\n",
       "      <td>1.879028</td>\n",
       "      <td>0.948764</td>\n",
       "    </tr>\n",
       "    <tr>\n",
       "      <th>15</th>\n",
       "      <td>I</td>\n",
       "      <td>0.705997</td>\n",
       "      <td>2.190155</td>\n",
       "      <td>0.731364</td>\n",
       "    </tr>\n",
       "    <tr>\n",
       "      <th>16</th>\n",
       "      <td>G</td>\n",
       "      <td>1.371018</td>\n",
       "      <td>2.010222</td>\n",
       "      <td>0.303946</td>\n",
       "    </tr>\n",
       "    <tr>\n",
       "      <th>17</th>\n",
       "      <td>D</td>\n",
       "      <td>1.489179</td>\n",
       "      <td>-0.204749</td>\n",
       "      <td>2.509008</td>\n",
       "    </tr>\n",
       "    <tr>\n",
       "      <th>18</th>\n",
       "      <td>W</td>\n",
       "      <td>1.072843</td>\n",
       "      <td>1.739526</td>\n",
       "      <td>0.451059</td>\n",
       "    </tr>\n",
       "    <tr>\n",
       "      <th>19</th>\n",
       "      <td>E</td>\n",
       "      <td>0.028385</td>\n",
       "      <td>1.189087</td>\n",
       "      <td>1.125338</td>\n",
       "    </tr>\n",
       "    <tr>\n",
       "      <th>20</th>\n",
       "      <td>L</td>\n",
       "      <td>1.418098</td>\n",
       "      <td>1.110111</td>\n",
       "      <td>0.300711</td>\n",
       "    </tr>\n",
       "  </tbody>\n",
       "</table>\n",
       "</div>"
      ],
      "text/plain": [
       "   AA        x1        x2        x3\n",
       "0   K  0.499363  0.568471  1.418411\n",
       "1   Y  0.642085  0.706680  0.449527\n",
       "2   A  0.441130  1.527710  1.026945\n",
       "3   R  0.955668  1.802421  0.517828\n",
       "4   U  2.852376  0.718355  1.796830\n",
       "5   S  0.438221  1.379497  1.294718\n",
       "6   P  0.164909  1.908115  0.954544\n",
       "7   Q  1.109144  1.668765  0.606969\n",
       "8   C  0.823256  0.917325  1.920328\n",
       "9   T  0.940858  1.127186  0.778292\n",
       "10  V  0.686744  0.887061  1.881717\n",
       "11  H  0.475969  2.082914  0.411187\n",
       "12  F  0.870300  2.619247  0.549647\n",
       "13  N  1.255692  1.796749  0.979880\n",
       "14  M  1.225356  1.879028  0.948764\n",
       "15  I  0.705997  2.190155  0.731364\n",
       "16  G  1.371018  2.010222  0.303946\n",
       "17  D  1.489179 -0.204749  2.509008\n",
       "18  W  1.072843  1.739526  0.451059\n",
       "19  E  0.028385  1.189087  1.125338\n",
       "20  L  1.418098  1.110111  0.300711"
      ]
     },
     "execution_count": 18,
     "metadata": {},
     "output_type": "execute_result"
    }
   ],
   "source": [
    "# Drop rows where the amino acid is \"_\"\n",
    "w2v_df_downsampled.drop(w2v_df_downsampled[w2v_df_downsampled['AA'] == \"_\"].index, inplace=True)\n",
    "\n",
    "# Display the cleaned DataFrame\n",
    "w2v_df_downsampled\n"
   ]
  },
  {
   "cell_type": "code",
   "execution_count": 19,
   "metadata": {
    "ExecuteTime": {
     "end_time": "2024-06-18T14:36:12.656644200Z",
     "start_time": "2024-06-18T14:36:12.653280700Z"
    }
   },
   "outputs": [],
   "source": [
    "# Create a list of amino acids from the cleaned DataFrame\n",
    "AA_lst_downsampled = list(w2v_df_downsampled['AA'])\n"
   ]
  },
  {
   "cell_type": "code",
   "execution_count": 20,
   "metadata": {
    "ExecuteTime": {
     "end_time": "2024-06-18T14:36:12.659658500Z",
     "start_time": "2024-06-18T14:36:12.656644200Z"
    }
   },
   "outputs": [],
   "source": [
    "# Define a color mapping for amino acids\n",
    "color_mp = {\n",
    "    'D': 'b', 'E': 'b',   # Blue for acidic amino acids\n",
    "    'R': 'r', 'K': 'r', 'H': 'r',  # Red for basic amino acids\n",
    "    'N': 'y', 'Q': 'y', 'S': 'y', 'T': 'y', 'Y': 'y',  # Yellow for polar uncharged amino acids\n",
    "    'A': 'g', 'V': 'g', 'L': 'g', 'I': 'g', 'P': 'g', 'F': 'g', 'M': 'g', 'W': 'g', 'C': 'g', 'G': 'g'  # Green for nonpolar amino acids\n",
    "}\n"
   ]
  },
  {
   "cell_type": "code",
   "execution_count": 21,
   "metadata": {
    "ExecuteTime": {
     "end_time": "2024-06-18T14:36:12.662149100Z",
     "start_time": "2024-06-18T14:36:12.659658500Z"
    }
   },
   "outputs": [
    {
     "data": {
      "text/plain": [
       "['K',\n",
       " 'Y',\n",
       " 'A',\n",
       " 'R',\n",
       " 'U',\n",
       " 'S',\n",
       " 'P',\n",
       " 'Q',\n",
       " 'C',\n",
       " 'T',\n",
       " 'V',\n",
       " 'H',\n",
       " 'F',\n",
       " 'N',\n",
       " 'M',\n",
       " 'I',\n",
       " 'G',\n",
       " 'D',\n",
       " 'W',\n",
       " 'E',\n",
       " 'L']"
      ]
     },
     "execution_count": 21,
     "metadata": {},
     "output_type": "execute_result"
    }
   ],
   "source": [
    "# Generate a list of color codes for each amino acid in the list\n",
    "color_code_downsampled = []\n",
    "for i, elt in enumerate(AA_lst_downsampled):\n",
    "    color_code_downsampled.append(color_mp.get(elt, 'w'))  # Default to 'w' (white) if amino acid not found in color_mp\n",
    "AA_lst_downsampled"
   ]
  },
  {
   "cell_type": "code",
   "execution_count": 22,
   "metadata": {
    "ExecuteTime": {
     "end_time": "2024-06-18T14:36:12.680069800Z",
     "start_time": "2024-06-18T14:36:12.662149100Z"
    }
   },
   "outputs": [
    {
     "data": {
      "text/plain": [
       "[('K', 0.4993625283241272, 0.5684714913368225),\n",
       " ('Y', 0.6420847773551941, 0.7066795229911804),\n",
       " ('A', 0.44112956523895264, 1.5277099609375),\n",
       " ('R', 0.9556682109832764, 1.8024208545684814),\n",
       " ('U', 2.8523764610290527, 0.7183554172515869),\n",
       " ('S', 0.4382207989692688, 1.3794972896575928),\n",
       " ('P', 0.16490906476974487, 1.9081149101257324),\n",
       " ('Q', 1.1091444492340088, 1.6687650680541992),\n",
       " ('C', 0.8232563734054565, 0.917325496673584),\n",
       " ('T', 0.9408576488494873, 1.1271862983703613),\n",
       " ('V', 0.6867443919181824, 0.8870612978935242),\n",
       " ('H', 0.47596901655197144, 2.082913875579834),\n",
       " ('F', 0.87030029296875, 2.6192469596862793),\n",
       " ('N', 1.2556915283203125, 1.796749472618103),\n",
       " ('M', 1.2253555059432983, 1.8790276050567627),\n",
       " ('I', 0.7059972286224365, 2.190154552459717),\n",
       " ('G', 1.371018409729004, 2.0102221965789795),\n",
       " ('D', 1.4891793727874756, -0.2047485113143921),\n",
       " ('W', 1.072843313217163, 1.7395261526107788),\n",
       " ('E', 0.028384685516357422, 1.1890869140625),\n",
       " ('L', 1.4180980920791626, 1.1101107597351074)]"
      ]
     },
     "execution_count": 22,
     "metadata": {},
     "output_type": "execute_result"
    }
   ],
   "source": [
    "# Create a zip object with amino acid labels and their corresponding vectors\n",
    "z_data_downsampled = zip(w2v_df_downsampled['AA'], w2v_df_downsampled['x1'], w2v_df_downsampled['x2'])\n",
    "\n",
    "# Convert to a list if you need to view or iterate multiple times\n",
    "z_data_downsampled = list(z_data_downsampled)\n",
    "\n",
    "# Display the zipped data\n",
    "z_data_downsampled\n"
   ]
  },
  {
   "cell_type": "code",
   "execution_count": 23,
   "metadata": {
    "ExecuteTime": {
     "end_time": "2024-06-18T14:36:12.681072700Z",
     "start_time": "2024-06-18T14:36:12.666159900Z"
    }
   },
   "outputs": [
    {
     "name": "stdout",
     "output_type": "stream",
     "text": [
      "K 0.4993625283241272 0.5684714913368225\n",
      "Y 0.6420847773551941 0.7066795229911804\n",
      "A 0.44112956523895264 1.5277099609375\n",
      "R 0.9556682109832764 1.8024208545684814\n",
      "U 2.8523764610290527 0.7183554172515869\n",
      "S 0.4382207989692688 1.3794972896575928\n",
      "P 0.16490906476974487 1.9081149101257324\n",
      "Q 1.1091444492340088 1.6687650680541992\n",
      "C 0.8232563734054565 0.917325496673584\n",
      "T 0.9408576488494873 1.1271862983703613\n",
      "V 0.6867443919181824 0.8870612978935242\n",
      "H 0.47596901655197144 2.082913875579834\n",
      "F 0.87030029296875 2.6192469596862793\n",
      "N 1.2556915283203125 1.796749472618103\n",
      "M 1.2253555059432983 1.8790276050567627\n",
      "I 0.7059972286224365 2.190154552459717\n",
      "G 1.371018409729004 2.0102221965789795\n",
      "D 1.4891793727874756 -0.2047485113143921\n",
      "W 1.072843313217163 1.7395261526107788\n",
      "E 0.028384685516357422 1.1890869140625\n",
      "L 1.4180980920791626 1.1101107597351074\n"
     ]
    }
   ],
   "source": [
    "# Iterate through the zipped data and print the amino acids and their corresponding vectors\n",
    "for (AA_downsampled, x1_downsampled, x2_downsampled) in z_data_downsampled:\n",
    "    print(AA_downsampled, x1_downsampled, x2_downsampled)\n"
   ]
  },
  {
   "cell_type": "markdown",
   "metadata": {},
   "source": [
    "### 3D chart"
   ]
  },
  {
   "cell_type": "code",
   "execution_count": 24,
   "metadata": {
    "ExecuteTime": {
     "end_time": "2024-06-18T14:51:25.268140600Z",
     "start_time": "2024-06-18T14:51:25.240846500Z"
    }
   },
   "outputs": [
    {
     "ename": "TypeError",
     "evalue": "FigureBase.gca() got an unexpected keyword argument 'projection'",
     "output_type": "error",
     "traceback": [
      "\u001b[0;31m---------------------------------------------------------------------------\u001b[0m",
      "\u001b[0;31mTypeError\u001b[0m                                 Traceback (most recent call last)",
      "Cell \u001b[0;32mIn[24], line 2\u001b[0m\n\u001b[1;32m      1\u001b[0m fig \u001b[38;5;241m=\u001b[39m plt\u001b[38;5;241m.\u001b[39mfigure(figsize\u001b[38;5;241m=\u001b[39m(\u001b[38;5;241m10\u001b[39m,\u001b[38;5;241m10\u001b[39m))\n\u001b[0;32m----> 2\u001b[0m ax \u001b[38;5;241m=\u001b[39m \u001b[43mfig\u001b[49m\u001b[38;5;241;43m.\u001b[39;49m\u001b[43mgca\u001b[49m\u001b[43m(\u001b[49m\u001b[43mprojection\u001b[49m\u001b[38;5;241;43m=\u001b[39;49m\u001b[38;5;124;43m'\u001b[39;49m\u001b[38;5;124;43m3d\u001b[39;49m\u001b[38;5;124;43m'\u001b[39;49m\u001b[43m)\u001b[49m\n\u001b[1;32m      4\u001b[0m \u001b[38;5;28;01mfor\u001b[39;00m i \u001b[38;5;129;01min\u001b[39;00m \u001b[38;5;28mrange\u001b[39m(\u001b[38;5;28mlen\u001b[39m(w2v_df_downsampled)):\n\u001b[1;32m      5\u001b[0m     sc \u001b[38;5;241m=\u001b[39m ax\u001b[38;5;241m.\u001b[39mscatter(w2v_df_downsampled[\u001b[38;5;124m'\u001b[39m\u001b[38;5;124mx1\u001b[39m\u001b[38;5;124m'\u001b[39m][i], w2v_df_downsampled[\u001b[38;5;124m'\u001b[39m\u001b[38;5;124mx2\u001b[39m\u001b[38;5;124m'\u001b[39m][i], w2v_df_downsampled[\u001b[38;5;124m'\u001b[39m\u001b[38;5;124mx3\u001b[39m\u001b[38;5;124m'\u001b[39m][i], c\u001b[38;5;241m=\u001b[39mcolor_code_downsampled[i], marker\u001b[38;5;241m=\u001b[39m\u001b[38;5;124mr\u001b[39m\u001b[38;5;124m\"\u001b[39m\u001b[38;5;124m$ \u001b[39m\u001b[38;5;132;01m{}\u001b[39;00m\u001b[38;5;124m $\u001b[39m\u001b[38;5;124m\"\u001b[39m\u001b[38;5;241m.\u001b[39mformat(AA_lst_downsampled[i]), s\u001b[38;5;241m=\u001b[39m\u001b[38;5;241m100\u001b[39m)\n",
      "\u001b[0;31mTypeError\u001b[0m: FigureBase.gca() got an unexpected keyword argument 'projection'"
     ]
    }
   ],
   "source": [
    "fig = plt.figure(figsize=(10,10))\n",
    "ax = fig.gca(projection='3d')\n",
    "\n",
    "for i in range(len(w2v_df_downsampled)):\n",
    "    sc = ax.scatter(w2v_df_downsampled['x1'][i], w2v_df_downsampled['x2'][i], w2v_df_downsampled['x3'][i], c=color_code_downsampled[i], marker=r\"$ {} $\".format(AA_lst_downsampled[i]), s=100)\n",
    "    \n",
    "# for i in range(len(w2v_df_downsampled)):\n",
    "#     sc = ax.scatter(w2v_df_downsampled['x1'][i], w2v_df_downsampled['x2'][i], w2v_df_downsampled['x3'][i], c=color_code_downsampled[i], marker=r\"$ {} $\".format(AA_lst_downsampled[i]), s=100, cmap=\"Spectral\")    \n",
    "\n",
    "# plt.colorbar(sc)\n",
    "plt.show()"
   ]
  },
  {
   "cell_type": "code",
   "execution_count": null,
   "metadata": {
    "ExecuteTime": {
     "start_time": "2024-06-18T14:36:13.200814100Z"
    }
   },
   "outputs": [],
   "source": []
  },
  {
   "cell_type": "code",
   "execution_count": null,
   "metadata": {},
   "outputs": [],
   "source": []
  },
  {
   "cell_type": "code",
   "execution_count": null,
   "metadata": {},
   "outputs": [],
   "source": []
  },
  {
   "cell_type": "code",
   "execution_count": null,
   "metadata": {},
   "outputs": [],
   "source": []
  },
  {
   "cell_type": "code",
   "execution_count": null,
   "metadata": {},
   "outputs": [],
   "source": []
  }
 ],
 "metadata": {
  "kernelspec": {
   "display_name": "Python 3 (ipykernel)",
   "language": "python",
   "name": "python3"
  },
  "language_info": {
   "codemirror_mode": {
    "name": "ipython",
    "version": 3
   },
   "file_extension": ".py",
   "mimetype": "text/x-python",
   "name": "python",
   "nbconvert_exporter": "python",
   "pygments_lexer": "ipython3",
   "version": "3.10.14"
  },
  "vscode": {
   "interpreter": {
    "hash": "40d3a090f54c6569ab1632332b64b2c03c39dcf918b08424e98f38b5ae0af88f"
   }
  }
 },
 "nbformat": 4,
 "nbformat_minor": 4
}
